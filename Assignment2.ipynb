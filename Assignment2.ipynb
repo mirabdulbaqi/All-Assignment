{
 "cells": [
  {
   "cell_type": "code",
   "execution_count": 1,
   "id": "079c0c84-b213-4b5f-88b1-2ec186223edd",
   "metadata": {},
   "outputs": [
    {
     "name": "stdin",
     "output_type": "stream",
     "text": [
      "Enter the length of the rectangle:  5\n",
      "Enter the width of the rectangle:  3\n"
     ]
    },
    {
     "name": "stdout",
     "output_type": "stream",
     "text": [
      "The area of the rectangle is: 15.0\n"
     ]
    }
   ],
   "source": [
    "# Take inputs for length and width\n",
    "length = float(input(\"Enter the length of the rectangle: \"))\n",
    "width = float(input(\"Enter the width of the rectangle: \"))\n",
    "\n",
    "# Calculate the area\n",
    "area = length * width\n",
    "\n",
    "# Print the result\n",
    "print(\"The area of the rectangle is:\", area)"
   ]
  },
  {
   "cell_type": "code",
   "execution_count": 3,
   "id": "71ed114e-b3f4-4047-b353-07e986d629ee",
   "metadata": {},
   "outputs": [
    {
     "name": "stdin",
     "output_type": "stream",
     "text": [
      "Enter the radius of the circle:  7\n"
     ]
    },
    {
     "name": "stdout",
     "output_type": "stream",
     "text": [
      "The circumference of the circle is: 43.982297150257104\n"
     ]
    }
   ],
   "source": [
    "import math  \n",
    "\n",
    "# Take input for the radius\n",
    "radius = float(input(\"Enter the radius of the circle: \"))\n",
    "\n",
    "# Calculate the circumference\n",
    "circumference = 2 * math.pi * radius\n",
    "print(\"The circumference of the circle is:\", circumference)"
   ]
  },
  {
   "cell_type": "code",
   "execution_count": 5,
   "id": "fa5c15a0-bbd8-44e1-9dee-0f660ac61e99",
   "metadata": {},
   "outputs": [
    {
     "name": "stdin",
     "output_type": "stream",
     "text": [
      "Enter the principal amount:  7\n",
      "Enter the rate of interest (as a percentage):  5\n",
      "Enter the time in years:  2\n"
     ]
    },
    {
     "name": "stdout",
     "output_type": "stream",
     "text": [
      "The Simple Interest is: 0.7000000000000001\n"
     ]
    }
   ],
   "source": [
    "# Take inputs for Principal, Rate, and Time\n",
    "principal = float(input(\"Enter the principal amount: \"))\n",
    "rate = float(input(\"Enter the rate of interest (as a percentage): \")) / 100  # Convert percentage to decimal\n",
    "time = float(input(\"Enter the time in years: \"))\n",
    "\n",
    "# Calculate the simple interest\n",
    "simple_interest = principal * rate * time\n",
    "\n",
    "print(\"The Simple Interest is:\", simple_interest)"
   ]
  },
  {
   "cell_type": "code",
   "execution_count": 7,
   "id": "5e7ae1ee-be35-4f14-8792-34fa73924600",
   "metadata": {},
   "outputs": [
    {
     "name": "stdin",
     "output_type": "stream",
     "text": [
      "Enter the distance covered (in meters):  100\n",
      "Enter the time taken (in seconds):  5\n"
     ]
    },
    {
     "name": "stdout",
     "output_type": "stream",
     "text": [
      "The speed of the object is: 20.0 m/s\n"
     ]
    }
   ],
   "source": [
    "# Take inputs for Distance and Time\n",
    "distance = float(input(\"Enter the distance covered (in meters): \"))\n",
    "time = float(input(\"Enter the time taken (in seconds): \"))\n",
    "\n",
    "# Calculate the speed\n",
    "speed = distance / time\n",
    "\n",
    "# Print the result\n",
    "print(\"The speed of the object is:\", speed, \"m/s\")"
   ]
  },
  {
   "cell_type": "code",
   "execution_count": 9,
   "id": "f5cd810e-b15e-4e0f-8c97-1968629059a5",
   "metadata": {},
   "outputs": [
    {
     "name": "stdin",
     "output_type": "stream",
     "text": [
      "Enter your weight in kilograms (kg):  70\n",
      "Enter your height in meters (m):  1.75\n"
     ]
    },
    {
     "name": "stdout",
     "output_type": "stream",
     "text": [
      "Your Body Mass Index (BMI) is: 22.86\n"
     ]
    }
   ],
   "source": [
    "# Take inputs for Weight and Height\n",
    "weight = float(input(\"Enter your weight in kilograms (kg): \"))\n",
    "height = float(input(\"Enter your height in meters (m): \"))\n",
    "\n",
    "# Calculate the BMI\n",
    "bmi = weight / (height ** 2)\n",
    "\n",
    "# Print the result\n",
    "print(\"Your Body Mass Index (BMI) is:\", round(bmi, 2))"
   ]
  },
  {
   "cell_type": "code",
   "execution_count": 11,
   "id": "e6b8d00b-8cf8-4645-86df-17f5774e5e55",
   "metadata": {},
   "outputs": [
    {
     "name": "stdin",
     "output_type": "stream",
     "text": [
      "Enter the mass of the object in kilograms (kg):  10\n",
      "Enter the acceleration of the object in meters/second² (m/s²):  5\n"
     ]
    },
    {
     "name": "stdout",
     "output_type": "stream",
     "text": [
      "The force on the object is: 50.0 Newtons (N)\n"
     ]
    }
   ],
   "source": [
    "# Take inputs for mass and acceleration\n",
    "mass = float(input(\"Enter the mass of the object in kilograms (kg): \"))\n",
    "acceleration = float(input(\"Enter the acceleration of the object in meters/second² (m/s²): \"))\n",
    "\n",
    "# Calculate the force\n",
    "force = mass * acceleration\n",
    "\n",
    "# Print the result\n",
    "print(\"The force on the object is:\", force, \"Newtons (N)\")"
   ]
  },
  {
   "cell_type": "code",
   "execution_count": 13,
   "id": "bb73bd01-c6e2-4c9c-bdc6-8f221586a0ad",
   "metadata": {},
   "outputs": [
    {
     "name": "stdin",
     "output_type": "stream",
     "text": [
      "Enter the principal amount (P):  100\n",
      "Enter the annual interest rate (as a percentage):  5\n",
      "Enter the number of times interest is compounded per year (n):  2\n",
      "Enter the time in years (t):  2\n"
     ]
    },
    {
     "name": "stdout",
     "output_type": "stream",
     "text": [
      "The total amount after 2.0 years is: 110.38\n",
      "The compound interest earned is: 10.38\n"
     ]
    }
   ],
   "source": [
    "# Take inputs from the user\n",
    "principal = float(input(\"Enter the principal amount (P): \"))\n",
    "annual_rate = float(input(\"Enter the annual interest rate (as a percentage): \")) / 100  # Convert percentage to decimal\n",
    "compounds_per_year = int(input(\"Enter the number of times interest is compounded per year (n): \"))\n",
    "time_in_years = float(input(\"Enter the time in years (t): \"))\n",
    "\n",
    "# Calculate total amount (A)\n",
    "total_amount = principal * (1 + annual_rate / compounds_per_year) ** (compounds_per_year * time_in_years)\n",
    "\n",
    "# Calculate compound interest\n",
    "compound_interest = total_amount - principal\n",
    "\n",
    "# Print the results\n",
    "print(\"The total amount after\", time_in_years, \"years is:\", round(total_amount, 2))\n",
    "print(\"The compound interest earned is:\", round(compound_interest, 2))"
   ]
  },
  {
   "cell_type": "code",
   "execution_count": 15,
   "id": "fd8e2f29-51da-413c-b801-69b54752319a",
   "metadata": {},
   "outputs": [
    {
     "name": "stdin",
     "output_type": "stream",
     "text": [
      "Enter the length of side a:  5\n",
      "Enter the length of side b:  7\n",
      "Enter the length of side c:  10\n"
     ]
    },
    {
     "name": "stdout",
     "output_type": "stream",
     "text": [
      "The perimeter of the triangle is: 22.0\n"
     ]
    }
   ],
   "source": [
    "# Take inputs for the lengths of the three sides\n",
    "a = float(input(\"Enter the length of side a: \"))\n",
    "b = float(input(\"Enter the length of side b: \"))\n",
    "c = float(input(\"Enter the length of side c: \"))\n",
    "\n",
    "# Calculate the perimeter\n",
    "perimeter = a + b + c\n",
    "\n",
    "# Print the result\n",
    "print(\"The perimeter of the triangle is:\", perimeter)"
   ]
  },
  {
   "cell_type": "code",
   "execution_count": 19,
   "id": "109942cd-4bcc-4166-bc9f-e282af007f4d",
   "metadata": {},
   "outputs": [
    {
     "name": "stdin",
     "output_type": "stream",
     "text": [
      "Enter the radius of the sphere (r):  5\n"
     ]
    },
    {
     "name": "stdout",
     "output_type": "stream",
     "text": [
      "The volume of the sphere is: 523.6 cubic units\n"
     ]
    }
   ],
   "source": [
    "import math  # Import the math module for π (pi)\n",
    "\n",
    "# Take input for the radius\n",
    "radius = float(input(\"Enter the radius of the sphere (r): \"))\n",
    "\n",
    "# Calculate the volume\n",
    "volume = (4 / 3) * math.pi * (radius ** 3)\n",
    "\n",
    "# Print the result\n",
    "print(\"The volume of the sphere is:\", round(volume, 2), \"cubic units\")"
   ]
  },
  {
   "cell_type": "code",
   "execution_count": 21,
   "id": "0f25187e-dfc1-4f3d-b557-a3e10c265fff",
   "metadata": {},
   "outputs": [
    {
     "name": "stdin",
     "output_type": "stream",
     "text": [
      "Enter the mass of the object (in kilograms):  10\n",
      "Enter the velocity of the object (in meters/second):  5\n"
     ]
    },
    {
     "name": "stdout",
     "output_type": "stream",
     "text": [
      "The kinetic energy of the object is: 125.0 Joules\n"
     ]
    }
   ],
   "source": [
    "# Take inputs for mass and velocity\n",
    "mass = float(input(\"Enter the mass of the object (in kilograms): \"))\n",
    "velocity = float(input(\"Enter the velocity of the object (in meters/second): \"))\n",
    "\n",
    "# Calculate the kinetic energy\n",
    "kinetic_energy = 0.5 * mass * (velocity ** 2)\n",
    "\n",
    "# Print the result\n",
    "print(\"The kinetic energy of the object is:\", round(kinetic_energy, 2), \"Joules\")"
   ]
  },
  {
   "cell_type": "code",
   "execution_count": 23,
   "id": "7ee75062-6dc4-47b5-a205-fafaf6905898",
   "metadata": {},
   "outputs": [
    {
     "name": "stdin",
     "output_type": "stream",
     "text": [
      "Enter the coefficient a:  1\n",
      "Enter the coefficient b:  -3\n",
      "Enter the coefficient c:  2\n"
     ]
    },
    {
     "name": "stdout",
     "output_type": "stream",
     "text": [
      "The roots are real and distinct:\n",
      "Root 1: 2.0\n",
      "Root 2: 1.0\n"
     ]
    }
   ],
   "source": [
    "import math  # Import the math module for square root\n",
    "\n",
    "# Take inputs for coefficients a, b, and c\n",
    "a = float(input(\"Enter the coefficient a: \"))\n",
    "b = float(input(\"Enter the coefficient b: \"))\n",
    "c = float(input(\"Enter the coefficient c: \"))\n",
    "\n",
    "# Calculate the discriminant\n",
    "discriminant = b**2 - 4*a*c\n",
    "\n",
    "# Check the nature of the discriminant and calculate the roots\n",
    "if discriminant > 0:\n",
    "    root1 = (-b + math.sqrt(discriminant)) / (2 * a)\n",
    "    root2 = (-b - math.sqrt(discriminant)) / (2 * a)\n",
    "    print(\"The roots are real and distinct:\")\n",
    "    print(\"Root 1:\", round(root1, 2))\n",
    "    print(\"Root 2:\", round(root2, 2))\n",
    "elif discriminant == 0:\n",
    "    root = -b / (2 * a)\n",
    "    print(\"The roots are real and equal:\")\n",
    "    print(\"Root:\", round(root, 2))\n",
    "else:\n",
    "    real_part = -b / (2 * a)\n",
    "    imaginary_part = math.sqrt(-discriminant) / (2 * a)\n",
    "    print(\"The roots are complex:\")\n",
    "    print(\"Root 1:\", round(real_part, 2), \"+\", round(imaginary_part, 2), \"i\")\n",
    "    print(\"Root 2:\", round(real_part, 2), \"-\", round(imaginary_part, 2), \"i\")"
   ]
  },
  {
   "cell_type": "code",
   "execution_count": 25,
   "id": "18c8daaf-a8ac-43c0-a0c1-ae22db887f12",
   "metadata": {},
   "outputs": [
    {
     "name": "stdin",
     "output_type": "stream",
     "text": [
      "Enter the temperature in Celsius (°C):  25\n"
     ]
    },
    {
     "name": "stdout",
     "output_type": "stream",
     "text": [
      "The temperature in Fahrenheit is: 77.0 °F\n"
     ]
    }
   ],
   "source": [
    "# Take input for temperature in Celsius\n",
    "celsius = float(input(\"Enter the temperature in Celsius (°C): \"))\n",
    "\n",
    "# Convert Celsius to Fahrenheit\n",
    "fahrenheit = celsius * (9 / 5) + 32\n",
    "\n",
    "# Print the result\n",
    "print(\"The temperature in Fahrenheit is:\", round(fahrenheit, 2), \"°F\")"
   ]
  },
  {
   "cell_type": "code",
   "execution_count": 27,
   "id": "2a2f9cca-6d73-426f-8e9a-e23ce52dabc6",
   "metadata": {},
   "outputs": [
    {
     "name": "stdin",
     "output_type": "stream",
     "text": [
      "Enter the mass of the first object (m1) in kilograms:  5.97\n",
      "Enter the mass of the second object (m2) in kilograms:  7.39\n",
      "Enter the distance between the centers of the objects (r) in meters:  3.84\n"
     ]
    },
    {
     "name": "stdout",
     "output_type": "stream",
     "text": [
      "The gravitational force between the objects is: 0.0 Newtons (N)\n"
     ]
    }
   ],
   "source": [
    "# Define the gravitational constant\n",
    "G = 6.674 * (10 ** -11)  # in N·m²/kg²\n",
    "\n",
    "# Take inputs for the masses and distance\n",
    "m1 = float(input(\"Enter the mass of the first object (m1) in kilograms: \"))\n",
    "m2 = float(input(\"Enter the mass of the second object (m2) in kilograms: \"))\n",
    "r = float(input(\"Enter the distance between the centers of the objects (r) in meters: \"))\n",
    "\n",
    "# Calculate the gravitational force\n",
    "force = G * (m1 * m2) / (r ** 2)\n",
    "\n",
    "# Print the result\n",
    "print(\"The gravitational force between the objects is:\", round(force, 2), \"Newtons (N)\")"
   ]
  },
  {
   "cell_type": "code",
   "execution_count": 29,
   "id": "c617db6d-fb9b-4949-92ca-8cb668de5406",
   "metadata": {},
   "outputs": [
    {
     "name": "stdin",
     "output_type": "stream",
     "text": [
      "Enter the radius of the cylinder (r):  3\n",
      "Enter the height of the cylinder (h):  5\n"
     ]
    },
    {
     "name": "stdout",
     "output_type": "stream",
     "text": [
      "The volume of the cylinder is: 141.37 cubic units\n"
     ]
    }
   ],
   "source": [
    "import math  # Import the math module for π (pi)\n",
    "\n",
    "# Take inputs for the radius and height\n",
    "radius = float(input(\"Enter the radius of the cylinder (r): \"))\n",
    "height = float(input(\"Enter the height of the cylinder (h): \"))\n",
    "\n",
    "# Calculate the volume\n",
    "volume = math.pi * (radius ** 2) * height\n",
    "\n",
    "# Print the result\n",
    "print(\"The volume of the cylinder is:\", round(volume, 2), \"cubic units\")"
   ]
  },
  {
   "cell_type": "code",
   "execution_count": 31,
   "id": "cda4148a-0789-4336-a31f-17dd88845d31",
   "metadata": {},
   "outputs": [
    {
     "name": "stdin",
     "output_type": "stream",
     "text": [
      "Enter the force (F) in Newtons (N):  50\n",
      "Enter the area (A) in square meters (m²):  2\n"
     ]
    },
    {
     "name": "stdout",
     "output_type": "stream",
     "text": [
      "The pressure exerted on the surface is: 25.0 Pascals (Pa)\n"
     ]
    }
   ],
   "source": [
    "# Take inputs for force and area\n",
    "force = float(input(\"Enter the force (F) in Newtons (N): \"))\n",
    "area = float(input(\"Enter the area (A) in square meters (m²): \"))\n",
    "\n",
    "# Check if the area is valid (non-zero and positive)\n",
    "if area <= 0:\n",
    "    print(\"Area must be a positive value greater than zero.\")\n",
    "else:\n",
    "    # Calculate pressure\n",
    "    pressure = force / area\n",
    "\n",
    "    # Print the result\n",
    "    print(\"The pressure exerted on the surface is:\", round(pressure, 2), \"Pascals (Pa)\")"
   ]
  },
  {
   "cell_type": "code",
   "execution_count": 33,
   "id": "6a371fe9-381c-43ef-bed3-0a0605dcbdb8",
   "metadata": {},
   "outputs": [
    {
     "name": "stdin",
     "output_type": "stream",
     "text": [
      "Enter the voltage (V) in Volts:  220\n",
      "Enter the current (I) in Amperes:  5\n"
     ]
    },
    {
     "name": "stdout",
     "output_type": "stream",
     "text": [
      "The electric power consumed is: 1100.0 Watts (W)\n"
     ]
    }
   ],
   "source": [
    "# Take inputs for voltage and current\n",
    "voltage = float(input(\"Enter the voltage (V) in Volts: \"))\n",
    "current = float(input(\"Enter the current (I) in Amperes: \"))\n",
    "\n",
    "# Calculate power\n",
    "power = voltage * current\n",
    "\n",
    "# Print the result\n",
    "print(\"The electric power consumed is:\", round(power, 2), \"Watts (W)\")"
   ]
  },
  {
   "cell_type": "code",
   "execution_count": 35,
   "id": "5327fb2e-3332-4795-a318-3a990fa7a74b",
   "metadata": {},
   "outputs": [
    {
     "name": "stdin",
     "output_type": "stream",
     "text": [
      "Enter the radius of the circle:  5\n"
     ]
    },
    {
     "name": "stdout",
     "output_type": "stream",
     "text": [
      "The circumference of the circle with radius 5.0 is: 31.41592653589793\n"
     ]
    }
   ],
   "source": [
    "import math\n",
    "\n",
    "# Take input from the user\n",
    "radius = float(input(\"Enter the radius of the circle: \"))\n",
    "\n",
    "# Calculate the perimeter (circumference)\n",
    "circumference = 2 * math.pi * radius\n",
    "\n",
    "# Output the result\n",
    "print(f\"The circumference of the circle with radius {radius} is: {circumference}\")"
   ]
  },
  {
   "cell_type": "code",
   "execution_count": 37,
   "id": "4d4a1443-02e0-4899-9ad6-4bf9f57e59bb",
   "metadata": {},
   "outputs": [
    {
     "name": "stdin",
     "output_type": "stream",
     "text": [
      "Enter the present value (PV):  10\n",
      "Enter the annual interest rate (r) as a decimal:  5\n",
      "Enter the time in years (t):  3\n"
     ]
    },
    {
     "name": "stdout",
     "output_type": "stream",
     "text": [
      "The future value of the investment is: 2160.0\n"
     ]
    }
   ],
   "source": [
    "# Take input from the user\n",
    "pv = float(input(\"Enter the present value (PV): \"))\n",
    "r = float(input(\"Enter the annual interest rate (r) as a decimal: \"))\n",
    "t = float(input(\"Enter the time in years (t): \"))\n",
    "\n",
    "# Calculate the future value (FV)\n",
    "fv = pv * (1 + r) ** t\n",
    "\n",
    "# Output the result\n",
    "print(f\"The future value of the investment is: {fv}\")"
   ]
  },
  {
   "cell_type": "code",
   "execution_count": 39,
   "id": "88b0cc44-eb57-47a3-85fa-7f9f0df75797",
   "metadata": {},
   "outputs": [
    {
     "name": "stdin",
     "output_type": "stream",
     "text": [
      "Enter the force (f) in Newtons:  12\n",
      "Enter the distance (d) in meters:  7\n",
      "Enter the angle (θ) in degrees:  45\n"
     ]
    },
    {
     "name": "stdout",
     "output_type": "stream",
     "text": [
      "The work done by the force is: 59.396969619669996 Joules\n"
     ]
    }
   ],
   "source": [
    "import math\n",
    "\n",
    "# Take inputs from the user\n",
    "f = float(input(\"Enter the force (f) in Newtons: \"))\n",
    "d = float(input(\"Enter the distance (d) in meters: \"))\n",
    "theta = float(input(\"Enter the angle (θ) in degrees: \"))\n",
    "\n",
    "# Convert the angle from degrees to radians\n",
    "theta_radians = math.radians(theta)\n",
    "\n",
    "# Calculate the work done\n",
    "work_done = f * d * math.cos(theta_radians)\n",
    "\n",
    "# Output the result\n",
    "print(f\"The work done by the force is: {work_done} Joules\")"
   ]
  },
  {
   "cell_type": "code",
   "execution_count": 41,
   "id": "6cb2ad2a-69d3-473a-a635-9bebd0589478",
   "metadata": {},
   "outputs": [
    {
     "name": "stdin",
     "output_type": "stream",
     "text": [
      "Enter the mass (m) in kilograms:  100\n",
      "Enter the specific heat capacity (c) in J/kg·°C:  17\n",
      "Enter the change in temperature (ΔT) in °C:  37\n"
     ]
    },
    {
     "name": "stdout",
     "output_type": "stream",
     "text": [
      "The amount of heat transferred is: 62900.0 Joules\n"
     ]
    }
   ],
   "source": [
    "# Take inputs from the user\n",
    "m = float(input(\"Enter the mass (m) in kilograms: \"))\n",
    "c = float(input(\"Enter the specific heat capacity (c) in J/kg·°C: \"))\n",
    "T = float(input(\"Enter the change in temperature (ΔT) in °C: \"))\n",
    "\n",
    "# Calculate the heat transfer\n",
    "Q = m * c * T\n",
    "\n",
    "# Output the result\n",
    "print(f\"The amount of heat transferred is: {Q} Joules\")"
   ]
  },
  {
   "cell_type": "code",
   "execution_count": null,
   "id": "0ff0d46c-e11a-4076-9815-32c7044d8fbf",
   "metadata": {},
   "outputs": [],
   "source": []
  }
 ],
 "metadata": {
  "kernelspec": {
   "display_name": "Python 3 (ipykernel)",
   "language": "python",
   "name": "python3"
  },
  "language_info": {
   "codemirror_mode": {
    "name": "ipython",
    "version": 3
   },
   "file_extension": ".py",
   "mimetype": "text/x-python",
   "name": "python",
   "nbconvert_exporter": "python",
   "pygments_lexer": "ipython3",
   "version": "3.12.7"
  }
 },
 "nbformat": 4,
 "nbformat_minor": 5
}
