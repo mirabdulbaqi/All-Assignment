{
 "cells": [
  {
   "cell_type": "markdown",
   "id": "0719fb97-017a-414e-b004-99b169c5d531",
   "metadata": {},
   "source": [
    "# Looping Structures"
   ]
  },
  {
   "cell_type": "code",
   "execution_count": 2,
   "id": "b6c0f511-b931-4450-81ab-031b8a3df372",
   "metadata": {},
   "outputs": [
    {
     "name": "stdout",
     "output_type": "stream",
     "text": [
      "1\n",
      "2\n",
      "3\n",
      "4\n",
      "5\n",
      "6\n",
      "7\n",
      "8\n",
      "9\n",
      "10\n"
     ]
    }
   ],
   "source": [
    "# Print numbers from 1 to 10 using a for loop\n",
    "for i in range(1, 11):\n",
    "    print(i)"
   ]
  },
  {
   "cell_type": "markdown",
   "id": "642ff9c0-1909-45aa-beda-c96a09b59cc4",
   "metadata": {},
   "source": [
    "#  Print Numbers from 20 to 1 Using a While Loop:"
   ]
  },
  {
   "cell_type": "code",
   "execution_count": 5,
   "id": "b428a65e-6917-49dc-b670-e367b322dece",
   "metadata": {},
   "outputs": [
    {
     "name": "stdout",
     "output_type": "stream",
     "text": [
      "20\n",
      "19\n",
      "18\n",
      "17\n",
      "16\n",
      "15\n",
      "14\n",
      "13\n",
      "12\n",
      "11\n",
      "10\n",
      "9\n",
      "8\n",
      "7\n",
      "6\n",
      "5\n",
      "4\n",
      "3\n",
      "2\n",
      "1\n"
     ]
    }
   ],
   "source": [
    "# Print numbers from 20 to 1 using a while loop\n",
    "i = 20\n",
    "while i >= 1:\n",
    "    print(i)\n",
    "    i -= 1"
   ]
  },
  {
   "cell_type": "markdown",
   "id": "677a4df3-d485-485d-80db-f6787117c569",
   "metadata": {},
   "source": [
    "#  Print Even Numbers from 1 to 10:"
   ]
  },
  {
   "cell_type": "code",
   "execution_count": 8,
   "id": "640bc2ec-78df-4b8f-88a7-8db13746850c",
   "metadata": {},
   "outputs": [
    {
     "name": "stdout",
     "output_type": "stream",
     "text": [
      "2\n",
      "4\n",
      "6\n",
      "8\n",
      "10\n"
     ]
    }
   ],
   "source": [
    "# Print even numbers from 1 to 10\n",
    "for i in range(1, 11):\n",
    "    if i % 2 == 0:\n",
    "        print(i)"
   ]
  },
  {
   "cell_type": "markdown",
   "id": "80223bd7-9816-4b45-9175-f81339694479",
   "metadata": {},
   "source": [
    "# Print All Numbers from 1 to n:"
   ]
  },
  {
   "cell_type": "code",
   "execution_count": 11,
   "id": "61539637-e0b1-46a2-b5d4-7786fd399e40",
   "metadata": {},
   "outputs": [
    {
     "name": "stdin",
     "output_type": "stream",
     "text": [
      "Enter a number:  16\n"
     ]
    },
    {
     "name": "stdout",
     "output_type": "stream",
     "text": [
      "1\n",
      "2\n",
      "3\n",
      "4\n",
      "5\n",
      "6\n",
      "7\n",
      "8\n",
      "9\n",
      "10\n",
      "11\n",
      "12\n",
      "13\n",
      "14\n",
      "15\n",
      "16\n"
     ]
    }
   ],
   "source": [
    "# Prompt the user to enter a number n and print numbers from 1 to n\n",
    "n = int(input(\"Enter a number: \"))\n",
    "for i in range(1, n + 1):\n",
    "    print(i)"
   ]
  },
  {
   "cell_type": "markdown",
   "id": "b7fd2ed4-a5ac-4d87-a84c-807bd35857f7",
   "metadata": {},
   "source": [
    "#  Print Odd Numbers Between 1 and n:"
   ]
  },
  {
   "cell_type": "code",
   "execution_count": 14,
   "id": "4e23460c-5cd2-4c24-a522-f17f19f19921",
   "metadata": {},
   "outputs": [
    {
     "name": "stdin",
     "output_type": "stream",
     "text": [
      "Enter a number:  12\n"
     ]
    },
    {
     "name": "stdout",
     "output_type": "stream",
     "text": [
      "1\n",
      "3\n",
      "5\n",
      "7\n",
      "9\n",
      "11\n"
     ]
    }
   ],
   "source": [
    "# Prompt the user to enter a number n and print odd numbers between 1 and n\n",
    "n = int(input(\"Enter a number: \"))\n",
    "for i in range(1, n + 1):\n",
    "    if i % 2 != 0:\n",
    "        print(i)"
   ]
  },
  {
   "cell_type": "markdown",
   "id": "16e0be01-b103-4cdf-921f-234bf6716788",
   "metadata": {},
   "source": [
    "#  Print 'Happy Birthday!' Five Times:"
   ]
  },
  {
   "cell_type": "code",
   "execution_count": 17,
   "id": "faf2cb22-8a5d-4cb4-af86-12edd6e4a721",
   "metadata": {},
   "outputs": [
    {
     "name": "stdout",
     "output_type": "stream",
     "text": [
      "Happy Birthday!\n",
      "Happy Birthday!\n",
      "Happy Birthday!\n",
      "Happy Birthday!\n",
      "Happy Birthday!\n"
     ]
    }
   ],
   "source": [
    "# Print 'Happy Birthday!' five times\n",
    "for i in range(5):\n",
    "    print(\"Happy Birthday!\")"
   ]
  },
  {
   "cell_type": "markdown",
   "id": "519ef890-665a-49c1-b466-92cb416c9262",
   "metadata": {},
   "source": [
    "# Generate the First n Terms of the Series Formed by Squaring the Natural Numbers:"
   ]
  },
  {
   "cell_type": "code",
   "execution_count": 20,
   "id": "bdfea722-51c0-44ec-95a8-0b6693cbaed6",
   "metadata": {},
   "outputs": [
    {
     "name": "stdin",
     "output_type": "stream",
     "text": [
      "Enter a number:  13\n"
     ]
    },
    {
     "name": "stdout",
     "output_type": "stream",
     "text": [
      "The first 13 terms of the series are:\n",
      "1 4 9 16 25 36 49 64 81 100 121 144 169 "
     ]
    }
   ],
   "source": [
    "# Prompt the user to enter a number n and print the first n terms of the series formed by squaring natural numbers\n",
    "n = int(input(\"Enter a number: \"))\n",
    "print(f\"The first {n} terms of the series are:\")\n",
    "for i in range(1, n + 1):\n",
    "    print(i**2, end=\" \")"
   ]
  },
  {
   "cell_type": "markdown",
   "id": "0007a59d-db9d-4c75-a17e-ca97a481af0e",
   "metadata": {},
   "source": [
    "# Print the Multiplication Table for a Given Number:"
   ]
  },
  {
   "cell_type": "code",
   "execution_count": 23,
   "id": "6e39d976-4fc2-4f0a-a628-5eb02b584b97",
   "metadata": {},
   "outputs": [
    {
     "name": "stdin",
     "output_type": "stream",
     "text": [
      "Enter a number:  10\n"
     ]
    },
    {
     "name": "stdout",
     "output_type": "stream",
     "text": [
      "10 x 1 = 10\n",
      "10 x 2 = 20\n",
      "10 x 3 = 30\n",
      "10 x 4 = 40\n",
      "10 x 5 = 50\n",
      "10 x 6 = 60\n",
      "10 x 7 = 70\n",
      "10 x 8 = 80\n",
      "10 x 9 = 90\n",
      "10 x 10 = 100\n"
     ]
    }
   ],
   "source": [
    "# Prompt the user to input a number and print its multiplication table\n",
    "n = int(input(\"Enter a number: \"))\n",
    "for i in range(1, 11):\n",
    "    print(f\"{n} x {i} = {n * i}\")"
   ]
  },
  {
   "cell_type": "markdown",
   "id": "31402c2c-094d-45dd-a261-1eaf2279fd69",
   "metadata": {},
   "source": [
    "# Print the First 8 Terms of an Arithmetic Progression Starting with 3 and Having a Common Difference of 4:"
   ]
  },
  {
   "cell_type": "code",
   "execution_count": 26,
   "id": "ea1e3f94-bebc-4365-852d-9cb226cb5588",
   "metadata": {},
   "outputs": [
    {
     "name": "stdout",
     "output_type": "stream",
     "text": [
      "3 7 11 15 19 23 27 31 "
     ]
    }
   ],
   "source": [
    "# First term (a) and common difference (d)\n",
    "a = 3\n",
    "d = 4\n",
    "\n",
    "# Print the first 8 terms of the arithmetic progression\n",
    "for i in range(8):\n",
    "    term = a + i * d\n",
    "    print(term, end=\" \")"
   ]
  },
  {
   "cell_type": "markdown",
   "id": "fe31720b-2640-4bc7-83a4-8b8150cd8470",
   "metadata": {},
   "source": [
    "# Print the First 6 Terms of a Geometric Sequence Starting with 2 and Having a Common Ratio of 3:"
   ]
  },
  {
   "cell_type": "code",
   "execution_count": 29,
   "id": "b00f3785-b93b-441b-9c93-b86b07104629",
   "metadata": {},
   "outputs": [
    {
     "name": "stdout",
     "output_type": "stream",
     "text": [
      "2 6 18 54 162 486 "
     ]
    }
   ],
   "source": [
    "# First term (a) and common ratio (r)\n",
    "a = 2\n",
    "r = 3\n",
    "\n",
    "# Print the first 6 terms of the geometric sequence\n",
    "for i in range(6):\n",
    "    term = a * (r ** i)\n",
    "    print(term, end=\" \")"
   ]
  },
  {
   "cell_type": "markdown",
   "id": "71c9d903-8c2e-4200-acf7-05ba64b53333",
   "metadata": {},
   "source": [
    "# Calculate the Sum of All Integers from 1 Up to the Number Entered:"
   ]
  },
  {
   "cell_type": "code",
   "execution_count": 32,
   "id": "ed94083a-dc7c-4033-a280-814010667229",
   "metadata": {},
   "outputs": [
    {
     "name": "stdin",
     "output_type": "stream",
     "text": [
      "Enter a positive integer:  12\n"
     ]
    },
    {
     "name": "stdout",
     "output_type": "stream",
     "text": [
      "The sum of all integers from 1 to 12 is: 78\n"
     ]
    }
   ],
   "source": [
    "# Ask the user for a positive integer\n",
    "n = int(input(\"Enter a positive integer: \"))\n",
    "\n",
    "# Calculate the sum of integers from 1 to n\n",
    "total_sum = 0\n",
    "for i in range(1, n + 1):\n",
    "    total_sum += i\n",
    "\n",
    "# Display the result\n",
    "print(f\"The sum of all integers from 1 to {n} is: {total_sum}\")"
   ]
  },
  {
   "cell_type": "markdown",
   "id": "5d93dfc1-a154-4709-adf8-aa4c3cd0c7e9",
   "metadata": {},
   "source": [
    "# Calculate the Sum of the Reciprocals of All Numbers from 1 Up to N:"
   ]
  },
  {
   "cell_type": "code",
   "execution_count": 35,
   "id": "3a91f5c2-981a-4b50-82ea-d63282f2508b",
   "metadata": {},
   "outputs": [
    {
     "name": "stdin",
     "output_type": "stream",
     "text": [
      "Enter a positive integer:  13\n"
     ]
    },
    {
     "name": "stdout",
     "output_type": "stream",
     "text": [
      "The sum of reciprocals from 1 to 13 is: 3.18\n"
     ]
    }
   ],
   "source": [
    "# Ask the user for a positive integer N\n",
    "n = int(input(\"Enter a positive integer: \"))\n",
    "\n",
    "# Calculate the sum of reciprocals\n",
    "reciprocal_sum = 0\n",
    "for i in range(1, n + 1):\n",
    "    reciprocal_sum += 1 / i\n",
    "\n",
    "# Display the result\n",
    "print(f\"The sum of reciprocals from 1 to {n} is: {reciprocal_sum:.2f}\")"
   ]
  },
  {
   "cell_type": "markdown",
   "id": "89e14767-1529-40ba-82bd-42fea13f1343",
   "metadata": {},
   "source": [
    "# Program to Prompt the User for a Number 5 Times and Calculate the Running Total:"
   ]
  },
  {
   "cell_type": "code",
   "execution_count": 38,
   "id": "e6a610f0-07e6-48b7-90bc-e88f0a3d3b80",
   "metadata": {},
   "outputs": [
    {
     "name": "stdin",
     "output_type": "stream",
     "text": [
      "Enter a number:  15\n",
      "Enter a number:  17\n",
      "Enter a number:  12\n",
      "Enter a number:  10\n",
      "Enter a number:  12\n"
     ]
    },
    {
     "name": "stdout",
     "output_type": "stream",
     "text": [
      "The final running total is: 66.0\n"
     ]
    }
   ],
   "source": [
    "# Initialize the running total to 0\n",
    "running_total = 0\n",
    "\n",
    "# Repeat the process 5 times\n",
    "for i in range(5):\n",
    "    number = float(input(\"Enter a number: \"))\n",
    "    running_total += number\n",
    "\n",
    "# Display the final running total\n",
    "print(f\"The final running total is: {running_total}\")"
   ]
  },
  {
   "cell_type": "markdown",
   "id": "3dec0662-1305-4225-9189-e21783e34fdc",
   "metadata": {},
   "source": [
    "# Program to Calculate the Factorial of a Positive Integer:"
   ]
  },
  {
   "cell_type": "code",
   "execution_count": 41,
   "id": "eb27db97-a85e-4528-995d-665c7a2f6735",
   "metadata": {},
   "outputs": [
    {
     "name": "stdin",
     "output_type": "stream",
     "text": [
      "Enter a positive integer:  19\n"
     ]
    },
    {
     "name": "stdout",
     "output_type": "stream",
     "text": [
      "The factorial of 19 is: 121645100408832000\n"
     ]
    }
   ],
   "source": [
    "# Prompt the user to enter a positive integer\n",
    "n = int(input(\"Enter a positive integer: \"))\n",
    "\n",
    "# Handle factorial of 0\n",
    "if n == 0:\n",
    "    print(\"The factorial of 0 is: 1\")\n",
    "elif n < 0:\n",
    "    print(\"Factorial does not exist for negative numbers.\")\n",
    "else:\n",
    "    factorial = 1\n",
    "    # Calculate the factorial\n",
    "    for i in range(1, n + 1):\n",
    "        factorial *= i\n",
    "    print(f\"The factorial of {n} is: {factorial}\")"
   ]
  },
  {
   "cell_type": "markdown",
   "id": "01f72eee-f4f5-4eb7-a959-f571d68c2b7e",
   "metadata": {},
   "source": [
    "# Program to Calculate the Power of a Base Number to an Exponent Without Using ** or math.pow():"
   ]
  },
  {
   "cell_type": "code",
   "execution_count": 44,
   "id": "c51cad1a-db9f-40e2-9446-2d4a74443f75",
   "metadata": {},
   "outputs": [
    {
     "name": "stdin",
     "output_type": "stream",
     "text": [
      "Enter the base number:  12\n",
      "Enter the exponent:  2\n"
     ]
    },
    {
     "name": "stdout",
     "output_type": "stream",
     "text": [
      "12.0 raised to the power of 2 is: 144.0\n"
     ]
    }
   ],
   "source": [
    "# Prompt the user to enter a base number and an exponent\n",
    "base = float(input(\"Enter the base number: \"))\n",
    "exponent = int(input(\"Enter the exponent: \"))\n",
    "\n",
    "# Initialize result to 1 (for positive exponents)\n",
    "result = 1\n",
    "\n",
    "# Handle positive exponents\n",
    "if exponent > 0:\n",
    "    for _ in range(exponent):\n",
    "        result *= base\n",
    "\n",
    "# Handle negative exponents\n",
    "elif exponent < 0:\n",
    "    for _ in range(abs(exponent)):\n",
    "        result *= base\n",
    "    result = 1 / result\n",
    "\n",
    "# If exponent is zero\n",
    "else:\n",
    "    result = 1\n",
    "\n",
    "# Display the result\n",
    "print(f\"{base} raised to the power of {exponent} is: {result}\")"
   ]
  },
  {
   "cell_type": "markdown",
   "id": "034b89b2-c0df-4d6c-a7db-1c4d15095880",
   "metadata": {},
   "source": [
    "# Conditional Structures"
   ]
  },
  {
   "cell_type": "code",
   "execution_count": 5,
   "id": "c13b722c-8fc9-4e97-96e9-82acadaeac65",
   "metadata": {
    "jp-MarkdownHeadingCollapsed": true
   },
   "outputs": [
    {
     "name": "stdin",
     "output_type": "stream",
     "text": [
      "Enter a number:  13\n"
     ]
    },
    {
     "name": "stdout",
     "output_type": "stream",
     "text": [
      "Odd\n"
     ]
    }
   ],
   "source": [
    "number = int(input(\"Enter a number: \"))\n",
    "if number % 2 == 0:\n",
    "    print(\"Even\")\n",
    "else:\n",
    "    print(\"Odd\")"
   ]
  },
  {
   "cell_type": "markdown",
   "id": "8dc10cfe-79a7-4548-8e97-c036960ebee5",
   "metadata": {},
   "source": [
    "# 2. Voting Eligibility"
   ]
  },
  {
   "cell_type": "code",
   "execution_count": 8,
   "id": "89b6a549-ba10-4bb9-94f0-5e9f4cc501e8",
   "metadata": {},
   "outputs": [
    {
     "name": "stdin",
     "output_type": "stream",
     "text": [
      "Enter your age:  21\n"
     ]
    },
    {
     "name": "stdout",
     "output_type": "stream",
     "text": [
      "You are eligible to vote.\n"
     ]
    }
   ],
   "source": [
    "age = int(input(\"Enter your age: \"))\n",
    "if age >= 18:\n",
    "    print(\"You are eligible to vote.\")\n",
    "else:\n",
    "    print(\"You are not eligible to vote yet.\")"
   ]
  },
  {
   "cell_type": "markdown",
   "id": "ce8ee776-7bc5-439f-9c20-5fc0f2c6909c",
   "metadata": {},
   "source": [
    "# 3. Find Largest of Two Integers"
   ]
  },
  {
   "cell_type": "code",
   "execution_count": 11,
   "id": "6bdbdc76-20d4-4778-a56c-e8484706b950",
   "metadata": {},
   "outputs": [
    {
     "name": "stdin",
     "output_type": "stream",
     "text": [
      "Enter the first number:  7\n",
      "Enter the second number:  9\n"
     ]
    },
    {
     "name": "stdout",
     "output_type": "stream",
     "text": [
      "The largest number is: 9\n"
     ]
    }
   ],
   "source": [
    "num1 = int(input(\"Enter the first number: \"))\n",
    "num2 = int(input(\"Enter the second number: \"))\n",
    "print(\"The largest number is:\", max(num1, num2))"
   ]
  },
  {
   "cell_type": "markdown",
   "id": "c776e29a-a656-4c32-ae58-f04f6479bd56",
   "metadata": {},
   "source": [
    "# 4. Check Positive, Negative, or Zero"
   ]
  },
  {
   "cell_type": "code",
   "execution_count": 14,
   "id": "422d9d38-6c66-482e-b655-dae34c47bd91",
   "metadata": {},
   "outputs": [
    {
     "name": "stdin",
     "output_type": "stream",
     "text": [
      "Enter a number:  5\n"
     ]
    },
    {
     "name": "stdout",
     "output_type": "stream",
     "text": [
      "Positive\n"
     ]
    }
   ],
   "source": [
    "number = float(input(\"Enter a number: \"))\n",
    "if number > 0:\n",
    "    print(\"Positive\")\n",
    "elif number < 0:\n",
    "    print(\"Negative\")\n",
    "else:\n",
    "    print(\"Zero\")"
   ]
  },
  {
   "cell_type": "markdown",
   "id": "37d563d3-e287-48bd-9d47-400dd2df6985",
   "metadata": {},
   "source": [
    "# 5. Determine Age Group"
   ]
  },
  {
   "cell_type": "code",
   "execution_count": 17,
   "id": "41eb3243-c5fa-4dec-810a-aa25298e2cba",
   "metadata": {},
   "outputs": [
    {
     "name": "stdin",
     "output_type": "stream",
     "text": [
      "Enter your age:  19\n"
     ]
    },
    {
     "name": "stdout",
     "output_type": "stream",
     "text": [
      "Teenager\n"
     ]
    }
   ],
   "source": [
    "age = int(input(\"Enter your age: \"))\n",
    "if 0 <= age <= 12:\n",
    "    print(\"Child\")\n",
    "elif 13 <= age <= 19:\n",
    "    print(\"Teenager\")\n",
    "elif 20 <= age <= 59:\n",
    "    print(\"Adult\")\n",
    "elif age >= 60:\n",
    "    print(\"Senior Citizen\")\n",
    "else:\n",
    "    print(\"Invalid age entered!\")"
   ]
  },
  {
   "cell_type": "markdown",
   "id": "c2d16c97-bb9c-427f-b6ab-bdb3feee2706",
   "metadata": {},
   "source": [
    "# 6. Day of the Week"
   ]
  },
  {
   "cell_type": "code",
   "execution_count": 20,
   "id": "210f7260-8b97-4e5f-b12b-c5c727d1cefa",
   "metadata": {},
   "outputs": [
    {
     "name": "stdin",
     "output_type": "stream",
     "text": [
      "Enter a number (1-7):  5\n"
     ]
    },
    {
     "name": "stdout",
     "output_type": "stream",
     "text": [
      "The day is: Thursday\n"
     ]
    }
   ],
   "source": [
    "day_number = int(input(\"Enter a number (1-7): \"))\n",
    "days = {1: \"Sunday\", 2: \"Monday\", 3: \"Tuesday\", 4: \"Wednesday\", 5: \"Thursday\", 6: \"Friday\", 7: \"Saturday\"}\n",
    "if 1 <= day_number <= 7:\n",
    "    print(\"The day is:\", days[day_number])\n",
    "else:\n",
    "    print(\"Error: Number should be between 1 and 7.\")"
   ]
  },
  {
   "cell_type": "markdown",
   "id": "44ee4f97-549e-432d-8386-35c2801613f4",
   "metadata": {},
   "source": [
    "# 7. BMI Calculator"
   ]
  },
  {
   "cell_type": "code",
   "execution_count": 23,
   "id": "56d7626e-28c7-42ce-9807-072454fcbb16",
   "metadata": {},
   "outputs": [
    {
     "name": "stdin",
     "output_type": "stream",
     "text": [
      "Enter your weight (in kg):  56\n",
      "Enter your height (in meters):  5.6\n"
     ]
    },
    {
     "name": "stdout",
     "output_type": "stream",
     "text": [
      "Underweight\n"
     ]
    }
   ],
   "source": [
    "weight = float(input(\"Enter your weight (in kg): \"))\n",
    "height = float(input(\"Enter your height (in meters): \"))\n",
    "bmi = weight / (height ** 2)\n",
    "\n",
    "if bmi < 18.5:\n",
    "    print(\"Underweight\")\n",
    "elif 18.5 <= bmi <= 24.9:\n",
    "    print(\"Normal weight\")\n",
    "elif 25 <= bmi <= 29.9:\n",
    "    print(\"Overweight\")\n",
    "else:\n",
    "    print(\"Obesity\")"
   ]
  },
  {
   "cell_type": "markdown",
   "id": "eb172d06-3658-47e6-b997-5be9efa5f865",
   "metadata": {},
   "source": [
    "# 8. Calculate Grade"
   ]
  },
  {
   "cell_type": "code",
   "execution_count": 26,
   "id": "6fd36bb1-b87f-4d81-9328-db25c588ae47",
   "metadata": {},
   "outputs": [
    {
     "name": "stdin",
     "output_type": "stream",
     "text": [
      "Enter marks for subject 1:  79\n",
      "Enter marks for subject 2:  83\n",
      "Enter marks for subject 3:  69\n"
     ]
    },
    {
     "name": "stdout",
     "output_type": "stream",
     "text": [
      "Grade: C\n"
     ]
    }
   ],
   "source": [
    "marks = [float(input(f\"Enter marks for subject {i+1}: \")) for i in range(3)]\n",
    "average = sum(marks) / 3\n",
    "\n",
    "if 90 <= average <= 100:\n",
    "    print(\"Grade: A\")\n",
    "elif 80 <= average < 90:\n",
    "    print(\"Grade: B\")\n",
    "elif 70 <= average < 80:\n",
    "    print(\"Grade: C\")\n",
    "elif 60 <= average < 70:\n",
    "    print(\"Grade: D\")\n",
    "else:\n",
    "    print(\"Grade: F\")"
   ]
  },
  {
   "cell_type": "markdown",
   "id": "92c24a4c-d0dc-44db-bf2a-99cea9aee787",
   "metadata": {},
   "source": [
    "# 9. Solve Quadratic Equation"
   ]
  },
  {
   "cell_type": "code",
   "execution_count": 29,
   "id": "11892fe8-7588-4783-9273-e5ce2ce1bd4f",
   "metadata": {},
   "outputs": [
    {
     "name": "stdin",
     "output_type": "stream",
     "text": [
      "Enter coefficient a (a ≠ 0):  7\n",
      "Enter coefficient b:  4\n",
      "Enter constant c:  8\n"
     ]
    },
    {
     "name": "stdout",
     "output_type": "stream",
     "text": [
      "Two complex roots: -0.2857142857142857 + 1.0301575072754254i and -0.2857142857142857 - 1.0301575072754254i\n"
     ]
    }
   ],
   "source": [
    "import math\n",
    "\n",
    "a = float(input(\"Enter coefficient a (a ≠ 0): \"))\n",
    "b = float(input(\"Enter coefficient b: \"))\n",
    "c = float(input(\"Enter constant c: \"))\n",
    "\n",
    "discriminant = b**2 - 4*a*c\n",
    "\n",
    "if discriminant > 0:\n",
    "    root1 = (-b + math.sqrt(discriminant)) / (2 * a)\n",
    "    root2 = (-b - math.sqrt(discriminant)) / (2 * a)\n",
    "    print(\"Two real roots:\", root1, \"and\", root2)\n",
    "elif discriminant == 0:\n",
    "    root = -b / (2 * a)\n",
    "    print(\"One real root:\", root)\n",
    "else:\n",
    "    real_part = -b / (2 * a)\n",
    "    imaginary_part = math.sqrt(-discriminant) / (2 * a)\n",
    "    print(\"Two complex roots:\", f\"{real_part} + {imaginary_part}i and {real_part} - {imaginary_part}i\")"
   ]
  },
  {
   "cell_type": "markdown",
   "id": "db028ecc-31f8-446f-bd86-b5ceb8259aa4",
   "metadata": {},
   "source": [
    "# 10. Sort Numbers"
   ]
  },
  {
   "cell_type": "code",
   "execution_count": 32,
   "id": "da3708b5-2700-43a8-8ef2-2b4ef90709eb",
   "metadata": {},
   "outputs": [
    {
     "name": "stdin",
     "output_type": "stream",
     "text": [
      "Enter number 1:  9\n",
      "Enter number 2:  4\n",
      "Enter number 3:  5\n"
     ]
    },
    {
     "name": "stdout",
     "output_type": "stream",
     "text": [
      "Sorted numbers: [4.0, 5.0, 9.0]\n"
     ]
    }
   ],
   "source": [
    "numbers = [float(input(f\"Enter number {i+1}: \")) for i in range(3)]\n",
    "numbers.sort()\n",
    "print(\"Sorted numbers:\", numbers)"
   ]
  },
  {
   "cell_type": "markdown",
   "id": "113dafe7-afed-40c7-a3ee-4db07a6c468e",
   "metadata": {},
   "source": [
    "# 11. Find Largest of Three Integers"
   ]
  },
  {
   "cell_type": "code",
   "execution_count": 35,
   "id": "1fc7d373-d9f1-4fd8-873a-375204443f68",
   "metadata": {},
   "outputs": [
    {
     "name": "stdin",
     "output_type": "stream",
     "text": [
      "Enter number 1:  4\n",
      "Enter number 2:  9\n",
      "Enter number 3:  6\n"
     ]
    },
    {
     "name": "stdout",
     "output_type": "stream",
     "text": [
      "The largest number is: 9\n"
     ]
    }
   ],
   "source": [
    "numbers = [int(input(f\"Enter number {i+1}: \")) for i in range(3)]\n",
    "print(\"The largest number is:\", max(numbers))"
   ]
  },
  {
   "cell_type": "markdown",
   "id": "55de7431-b35b-4b9e-b00d-c481210a08e3",
   "metadata": {},
   "source": [
    "# 12. Check Vowel or Consonant"
   ]
  },
  {
   "cell_type": "code",
   "execution_count": 38,
   "id": "dc4f0d04-ed6a-4c39-9d4f-8cce97e96e25",
   "metadata": {},
   "outputs": [
    {
     "name": "stdin",
     "output_type": "stream",
     "text": [
      "Enter a character:  A\n"
     ]
    },
    {
     "name": "stdout",
     "output_type": "stream",
     "text": [
      "Vowel\n"
     ]
    }
   ],
   "source": [
    "char = input(\"Enter a character: \").lower()\n",
    "if char in 'aeiou':\n",
    "    print(\"Vowel\")\n",
    "elif char.isalpha():\n",
    "    print(\"Consonant\")\n",
    "else:\n",
    "    print(\"Invalid input\")"
   ]
  },
  {
   "cell_type": "markdown",
   "id": "693b43dc-eb31-4152-8d6c-e7aa41e7175f",
   "metadata": {},
   "source": [
    "# 13. Check Leap Year"
   ]
  },
  {
   "cell_type": "code",
   "execution_count": 41,
   "id": "ec4aedb0-d91b-4bbe-8df0-fec54c7471fa",
   "metadata": {},
   "outputs": [
    {
     "name": "stdin",
     "output_type": "stream",
     "text": [
      "Enter a year:  2007\n"
     ]
    },
    {
     "name": "stdout",
     "output_type": "stream",
     "text": [
      "Not a Leap Year\n"
     ]
    }
   ],
   "source": [
    "year = int(input(\"Enter a year: \"))\n",
    "if (year % 4 == 0 and year % 100 != 0) or (year % 400 == 0):\n",
    "    print(\"Leap Year\")\n",
    "else:\n",
    "    print(\"Not a Leap Year\")"
   ]
  },
  {
   "cell_type": "markdown",
   "id": "b86f0628-4d8b-4121-a35e-bffc5c5db670",
   "metadata": {},
   "source": [
    "# 14. Telephone Bill Calculation"
   ]
  },
  {
   "cell_type": "code",
   "execution_count": 44,
   "id": "654dc908-3b7d-4876-971c-7b58a03fff0e",
   "metadata": {},
   "outputs": [
    {
     "name": "stdin",
     "output_type": "stream",
     "text": [
      "Enter the number of calls:  3\n"
     ]
    },
    {
     "name": "stdout",
     "output_type": "stream",
     "text": [
      "Your bill is: Rs. 200.00\n"
     ]
    }
   ],
   "source": [
    "calls = int(input(\"Enter the number of calls: \"))\n",
    "\n",
    "if calls <= 100:\n",
    "    bill = 200\n",
    "elif calls <= 150:\n",
    "    bill = 200 + (calls - 100) * 0.60\n",
    "elif calls <= 200:\n",
    "    bill = 200 + 50 * 0.60 + (calls - 150) * 0.50\n",
    "else:\n",
    "    bill = 200 + 50 * 0.60 + 50 * 0.50 + (calls - 200) * 0.40\n",
    "\n",
    "print(f\"Your bill is: Rs. {bill:.2f}\")"
   ]
  },
  {
   "cell_type": "markdown",
   "id": "94f1615f-9de7-4a5d-86a2-4b9beec2a607",
   "metadata": {},
   "source": [
    "# Strings "
   ]
  },
  {
   "cell_type": "markdown",
   "id": "0c8cd933-db7a-4a07-80f8-31b537feee73",
   "metadata": {},
   "source": [
    "# 1. Count and Display the Number of Vowels in a String"
   ]
  },
  {
   "cell_type": "code",
   "execution_count": 4,
   "id": "5e6279e0-1d68-421c-b86c-a8ddcb4e665e",
   "metadata": {},
   "outputs": [
    {
     "name": "stdin",
     "output_type": "stream",
     "text": [
      "Enter a string:  abc\n"
     ]
    },
    {
     "name": "stdout",
     "output_type": "stream",
     "text": [
      "Number of vowels: 1\n"
     ]
    }
   ],
   "source": [
    "string = input(\"Enter a string: \")\n",
    "vowels = \"aeiouAEIOU\"\n",
    "count = sum(1 for char in string if char in vowels)\n",
    "print(f\"Number of vowels: {count}\")"
   ]
  },
  {
   "cell_type": "markdown",
   "id": "a86e0fa0-3ecd-473d-a45c-cfb6b45be3fb",
   "metadata": {},
   "source": [
    "# 2. Count and Display Uppercase, Lowercase, Digits, and Whitespace Characters"
   ]
  },
  {
   "cell_type": "code",
   "execution_count": 7,
   "id": "702a54c0-f41f-4658-b739-57eb3be58688",
   "metadata": {},
   "outputs": [
    {
     "name": "stdin",
     "output_type": "stream",
     "text": [
      "Enter a string:  abdul\n"
     ]
    },
    {
     "name": "stdout",
     "output_type": "stream",
     "text": [
      "Uppercase letters: 0\n",
      "Lowercase letters: 5\n",
      "Digits: 0\n",
      "Whitespace characters: 0\n"
     ]
    }
   ],
   "source": [
    "string = input(\"Enter a string: \")\n",
    "uppercase = sum(1 for char in string if char.isupper())\n",
    "lowercase = sum(1 for char in string if char.islower())\n",
    "digits = sum(1 for char in string if char.isdigit())\n",
    "whitespaces = sum(1 for char in string if char.isspace())\n",
    "print(f\"Uppercase letters: {uppercase}\")\n",
    "print(f\"Lowercase letters: {lowercase}\")\n",
    "print(f\"Digits: {digits}\")\n",
    "print(f\"Whitespace characters: {whitespaces}\")"
   ]
  },
  {
   "cell_type": "markdown",
   "id": "f0ceca30-73aa-49f8-91f9-1adfadde2d91",
   "metadata": {},
   "source": [
    "# 3. Exchange the First and Last Characters of a String"
   ]
  },
  {
   "cell_type": "code",
   "execution_count": 10,
   "id": "629fdf72-9913-418a-a1e3-56b63d2b971a",
   "metadata": {},
   "outputs": [
    {
     "name": "stdin",
     "output_type": "stream",
     "text": [
      "Enter a string:  Meer\n"
     ]
    },
    {
     "name": "stdout",
     "output_type": "stream",
     "text": [
      "New string: reeM\n"
     ]
    }
   ],
   "source": [
    "string = input(\"Enter a string: \")\n",
    "if len(string) > 1:\n",
    "    new_string = string[-1] + string[1:-1] + string[0]\n",
    "else:\n",
    "    new_string = string\n",
    "print(f\"New string: {new_string}\")"
   ]
  },
  {
   "cell_type": "markdown",
   "id": "51f71aeb-57d4-470f-9761-aa0bd3614c4c",
   "metadata": {},
   "source": [
    "# 4. Reverse a String Without Using reverse()"
   ]
  },
  {
   "cell_type": "code",
   "execution_count": 13,
   "id": "3947e90e-44d6-40dd-9063-a194442f0690",
   "metadata": {},
   "outputs": [
    {
     "name": "stdin",
     "output_type": "stream",
     "text": [
      "Enter a string:  hello\n"
     ]
    },
    {
     "name": "stdout",
     "output_type": "stream",
     "text": [
      "Reversed string: olleh\n"
     ]
    }
   ],
   "source": [
    "string = input(\"Enter a string: \")\n",
    "reversed_string = string[::-1]\n",
    "print(f\"Reversed string: {reversed_string}\")"
   ]
  },
  {
   "cell_type": "markdown",
   "id": "039b0c71-4b38-4845-8322-52fe39fd4974",
   "metadata": {},
   "source": [
    "# 5. Shift Characters of a String One Position to the Left"
   ]
  },
  {
   "cell_type": "code",
   "execution_count": 16,
   "id": "97b36190-d2f7-4e2a-aa42-0f0bb925453e",
   "metadata": {},
   "outputs": [
    {
     "name": "stdin",
     "output_type": "stream",
     "text": [
      "Enter a string:  abcdef\n"
     ]
    },
    {
     "name": "stdout",
     "output_type": "stream",
     "text": [
      "Shifted string: bcdefa\n"
     ]
    }
   ],
   "source": [
    "string = input(\"Enter a string: \")\n",
    "new_string = string[1:] + string[0]\n",
    "print(f\"Shifted string: {new_string}\")"
   ]
  },
  {
   "cell_type": "markdown",
   "id": "f6d2a8a5-f5b8-4f24-9a7b-79b57ec0ec6c",
   "metadata": {},
   "source": [
    "# 6. Print the Initials of the Name Without Using split()"
   ]
  },
  {
   "cell_type": "code",
   "execution_count": 19,
   "id": "c4777201-2141-42d0-9156-16ab84811681",
   "metadata": {},
   "outputs": [
    {
     "name": "stdin",
     "output_type": "stream",
     "text": [
      "Enter your full name (first, middle, last):  Mir Abdul Baqi\n"
     ]
    },
    {
     "name": "stdout",
     "output_type": "stream",
     "text": [
      "Initials: M. A. B.\n"
     ]
    }
   ],
   "source": [
    "name = input(\"Enter your full name (first, middle, last): \")\n",
    "initials = \"\"\n",
    "prev_char = \" \"\n",
    "for char in name:\n",
    "    if prev_char == \" \" and char != \" \":\n",
    "        initials += char.upper() + \". \"\n",
    "    prev_char = char\n",
    "print(f\"Initials: {initials.strip()}\")"
   ]
  },
  {
   "cell_type": "markdown",
   "id": "c6e791e7-0fdc-42f2-9123-ebf57aeb95f4",
   "metadata": {},
   "source": [
    "# 7. Check If a String Is a Palindrome Without Using reverse()"
   ]
  },
  {
   "cell_type": "code",
   "execution_count": 22,
   "id": "a33a61ec-c32b-4a13-bd6d-7c5921f93fd3",
   "metadata": {},
   "outputs": [
    {
     "name": "stdin",
     "output_type": "stream",
     "text": [
      "Enter a string:  abcd\n"
     ]
    },
    {
     "name": "stdout",
     "output_type": "stream",
     "text": [
      "The string is a palindrome: False\n"
     ]
    }
   ],
   "source": [
    "string = input(\"Enter a string: \")\n",
    "is_palindrome = string == string[::-1]\n",
    "print(f\"The string is a palindrome: {is_palindrome}\")"
   ]
  },
  {
   "cell_type": "markdown",
   "id": "e5b36d5d-817f-4d1c-829e-e0d2ec0273ff",
   "metadata": {},
   "source": [
    "# 8. Display the Cyclic Permutations of the Word \"SHIFT\""
   ]
  },
  {
   "cell_type": "code",
   "execution_count": 25,
   "id": "5cfda385-0c50-4f0d-af9e-1157d565ce98",
   "metadata": {},
   "outputs": [
    {
     "name": "stdout",
     "output_type": "stream",
     "text": [
      "SHIFT\n",
      "HIFTS\n",
      "IFTSH\n",
      "FTSHI\n",
      "TSHIF\n"
     ]
    }
   ],
   "source": [
    "string = \"SHIFT\"\n",
    "for i in range(len(string)):\n",
    "    print(string[i:] + string[:i])"
   ]
  },
  {
   "cell_type": "markdown",
   "id": "7a461216-3ebf-49d1-b3d6-187566345c9f",
   "metadata": {},
   "source": [
    "# 9. Validate Password According to Given Requirements"
   ]
  },
  {
   "cell_type": "code",
   "execution_count": 28,
   "id": "ca8913f5-1254-4edb-8691-bc60aacef331",
   "metadata": {},
   "outputs": [
    {
     "name": "stdin",
     "output_type": "stream",
     "text": [
      "Enter your password:  120712\n"
     ]
    },
    {
     "name": "stdout",
     "output_type": "stream",
     "text": [
      "Password is invalid. Ensure it meets all the requirements.\n"
     ]
    }
   ],
   "source": [
    "password = input(\"Enter your password: \")\n",
    "\n",
    "if (len(password) >= 8 and \n",
    "    any(char.isupper() for char in password) and \n",
    "    any(char.islower() for char in password) and \n",
    "    any(char.isdigit() for char in password)):\n",
    "    print(\"Password is valid.\")\n",
    "else:\n",
    "    print(\"Password is invalid. Ensure it meets all the requirements.\")"
   ]
  },
  {
   "cell_type": "markdown",
   "id": "0f0fe3c7-d435-4d30-8aab-0d7418466a58",
   "metadata": {},
   "source": [
    "# List Assignment"
   ]
  },
  {
   "cell_type": "markdown",
   "id": "cdc61993-539e-46ae-bdd9-7beca3796d54",
   "metadata": {},
   "source": [
    "# 1. Print Alternate Elements of a List"
   ]
  },
  {
   "cell_type": "code",
   "execution_count": 41,
   "id": "c4997dc7-3fdd-45b5-bf86-185113b47a61",
   "metadata": {},
   "outputs": [
    {
     "name": "stdin",
     "output_type": "stream",
     "text": [
      "Enter elements of the list separated by space:  1 3 7 11\n"
     ]
    },
    {
     "name": "stdout",
     "output_type": "stream",
     "text": [
      "Alternate elements of the list: [1, 7]\n"
     ]
    }
   ],
   "source": [
    "lst = list(map(int, input(\"Enter elements of the list separated by space: \").split()))\n",
    "print(\"Alternate elements of the list:\", lst[::2])"
   ]
  },
  {
   "cell_type": "markdown",
   "id": "6772b17a-bd98-41f6-a38b-5addf644167b",
   "metadata": {},
   "source": [
    "# 2. Reverse the Content of a List Without Using reverse()"
   ]
  },
  {
   "cell_type": "code",
   "execution_count": 43,
   "id": "0c7a5edc-7a2e-4854-914d-b04659c7d9db",
   "metadata": {},
   "outputs": [
    {
     "name": "stdin",
     "output_type": "stream",
     "text": [
      "Enter elements of the list separated by space:  07 199 2341\n"
     ]
    },
    {
     "name": "stdout",
     "output_type": "stream",
     "text": [
      "Reversed list: [2341, 199, 7]\n"
     ]
    }
   ],
   "source": [
    "lst = list(map(int, input(\"Enter elements of the list separated by space: \").split()))\n",
    "reversed_lst = lst[::-1]\n",
    "print(\"Reversed list:\", reversed_lst)"
   ]
  },
  {
   "cell_type": "markdown",
   "id": "4a3c0f15-1339-4764-9f0b-4e316ba12550",
   "metadata": {},
   "source": [
    "# 3. Find the Largest Number in a List Without Using max()"
   ]
  },
  {
   "cell_type": "code",
   "execution_count": 39,
   "id": "378327e1-8afd-43c0-a211-9ac40fef040b",
   "metadata": {},
   "outputs": [
    {
     "name": "stdin",
     "output_type": "stream",
     "text": [
      "Enter elements of the list separated by space:  0 1 2 3\n"
     ]
    },
    {
     "name": "stdout",
     "output_type": "stream",
     "text": [
      "Largest number: 3\n"
     ]
    }
   ],
   "source": [
    "lst = list(map(int, input(\"Enter elements of the list separated by space: \").split()))\n",
    "largest = lst[0]\n",
    "for num in lst:\n",
    "    if num > largest:\n",
    "        largest = num\n",
    "print(\"Largest number:\", largest)"
   ]
  },
  {
   "cell_type": "markdown",
   "id": "57c01600-f3a8-4bf8-8336-8be67f1c2d9f",
   "metadata": {},
   "source": [
    "# 4. Rotate Elements of a List"
   ]
  },
  {
   "cell_type": "code",
   "execution_count": 46,
   "id": "88e006ba-2aac-41ce-ac64-04c40ff4a1be",
   "metadata": {},
   "outputs": [
    {
     "name": "stdin",
     "output_type": "stream",
     "text": [
      "Enter elements of the list separated by space:  0 1 2 3 4 5\n"
     ]
    },
    {
     "name": "stdout",
     "output_type": "stream",
     "text": [
      "Rotated list: [1, 2, 3, 4, 5, 0]\n"
     ]
    }
   ],
   "source": [
    "lst = list(map(int, input(\"Enter elements of the list separated by space: \").split()))\n",
    "rotated_lst = lst[1:] + lst[:1]\n",
    "print(\"Rotated list:\", rotated_lst)"
   ]
  },
  {
   "cell_type": "markdown",
   "id": "6cb2fafc-64c3-45fd-b689-4a2496fa3696",
   "metadata": {},
   "source": [
    "# 5. Delete a Given Word from a String"
   ]
  },
  {
   "cell_type": "code",
   "execution_count": 49,
   "id": "a13e906b-1d1e-4a5a-bc7c-93a95a6d89c6",
   "metadata": {},
   "outputs": [
    {
     "name": "stdin",
     "output_type": "stream",
     "text": [
      "Enter a string:  hello world\n",
      "Enter the word to delete:  lo\n"
     ]
    },
    {
     "name": "stdout",
     "output_type": "stream",
     "text": [
      "Updated string: hel world\n"
     ]
    }
   ],
   "source": [
    "string = input(\"Enter a string: \")\n",
    "word_to_delete = input(\"Enter the word to delete: \")\n",
    "new_string = string.replace(word_to_delete, \"\").strip()\n",
    "print(\"Updated string:\", new_string)"
   ]
  },
  {
   "cell_type": "markdown",
   "id": "0f608868-30ea-4ea5-a479-29b107d2005c",
   "metadata": {},
   "source": [
    "# 6. Convert Date Format mm/dd/yyyy to Month Day, Year"
   ]
  },
  {
   "cell_type": "code",
   "execution_count": 56,
   "id": "8d8e70f3-4b77-4149-bab8-43f53541e357",
   "metadata": {},
   "outputs": [
    {
     "name": "stdin",
     "output_type": "stream",
     "text": [
      "Enter a date in mm/dd/yyyy format:  07/12/2002\n"
     ]
    },
    {
     "name": "stdout",
     "output_type": "stream",
     "text": [
      "Formatted date: July 12, 2002\n"
     ]
    }
   ],
   "source": [
    "import calendar\n",
    "\n",
    "date = input(\"Enter a date in mm/dd/yyyy format: \")\n",
    "month, day, year = map(int, date.split('/'))\n",
    "month_name = calendar.month_name[month]\n",
    "print(f\"Formatted date: {month_name} {day}, {year}\")"
   ]
  },
  {
   "cell_type": "markdown",
   "id": "de973d42-2e44-4689-bb22-58e1937720fc",
   "metadata": {},
   "source": [
    "# 7. Capitalize the First Letter of Each Word"
   ]
  },
  {
   "cell_type": "code",
   "execution_count": 59,
   "id": "598f2f90-db6d-48f4-aaca-92590b6a0a24",
   "metadata": {},
   "outputs": [
    {
     "name": "stdin",
     "output_type": "stream",
     "text": [
      "Enter a sentence:  hello world\n"
     ]
    },
    {
     "name": "stdout",
     "output_type": "stream",
     "text": [
      "Capitalized sentence: Hello World\n"
     ]
    }
   ],
   "source": [
    "def capitalize_words(sentence):\n",
    "    result = \"\"\n",
    "    prev_char = \" \"\n",
    "    for char in sentence:\n",
    "        if prev_char == \" \" and char.isalpha():\n",
    "            result += char.upper()\n",
    "        else:\n",
    "            result += char\n",
    "        prev_char = char\n",
    "    return result\n",
    "\n",
    "sentence = input(\"Enter a sentence: \")\n",
    "print(\"Capitalized sentence:\", capitalize_words(sentence))"
   ]
  },
  {
   "cell_type": "markdown",
   "id": "044ee8e3-2cf1-4516-8ef2-b2095b52bb0d",
   "metadata": {},
   "source": [
    "# 8. Find the Sum of Each Row in a Matrix"
   ]
  },
  {
   "cell_type": "code",
   "execution_count": 62,
   "id": "11141970-6a6f-4528-9462-dce3aefa84cf",
   "metadata": {},
   "outputs": [
    {
     "name": "stdin",
     "output_type": "stream",
     "text": [
      "Enter number of rows:  3\n",
      "Enter number of columns:  3\n"
     ]
    },
    {
     "name": "stdout",
     "output_type": "stream",
     "text": [
      "Enter the matrix row by row:\n"
     ]
    },
    {
     "name": "stdin",
     "output_type": "stream",
     "text": [
      " 1 2 3\n",
      " 4 5 6\n",
      " 7 8 9\n"
     ]
    },
    {
     "name": "stdout",
     "output_type": "stream",
     "text": [
      "Sum of row 1 = 6\n",
      "Sum of row 2 = 15\n",
      "Sum of row 3 = 24\n"
     ]
    }
   ],
   "source": [
    "m = int(input(\"Enter number of rows: \"))\n",
    "n = int(input(\"Enter number of columns: \"))\n",
    "\n",
    "matrix = []\n",
    "print(\"Enter the matrix row by row:\")\n",
    "for _ in range(m):\n",
    "    row = list(map(int, input().split()))\n",
    "    matrix.append(row)\n",
    "\n",
    "for i in range(m):\n",
    "    print(f\"Sum of row {i+1} = {sum(matrix[i])}\")"
   ]
  },
  {
   "cell_type": "markdown",
   "id": "92d52804-f85e-4906-8ba8-cc2cd6174b65",
   "metadata": {},
   "source": [
    "# 9. Add Two Matrices"
   ]
  },
  {
   "cell_type": "code",
   "execution_count": 65,
   "id": "3e7a4ce3-0dec-4236-bb96-6e28f5b30bb2",
   "metadata": {},
   "outputs": [
    {
     "name": "stdin",
     "output_type": "stream",
     "text": [
      "Enter number of rows:  2\n",
      "Enter number of columns:  2\n"
     ]
    },
    {
     "name": "stdout",
     "output_type": "stream",
     "text": [
      "Enter elements of first matrix:\n"
     ]
    },
    {
     "name": "stdin",
     "output_type": "stream",
     "text": [
      " 3 4 5\n",
      "  6 7 9\n"
     ]
    },
    {
     "name": "stdout",
     "output_type": "stream",
     "text": [
      "Enter elements of second matrix:\n"
     ]
    },
    {
     "name": "stdin",
     "output_type": "stream",
     "text": [
      " 1 2 3\n",
      " 9 8 6\n"
     ]
    },
    {
     "name": "stdout",
     "output_type": "stream",
     "text": [
      "Resultant matrix after addition:\n",
      "4 6\n",
      "15 15\n"
     ]
    }
   ],
   "source": [
    "m = int(input(\"Enter number of rows: \"))\n",
    "n = int(input(\"Enter number of columns: \"))\n",
    "\n",
    "print(\"Enter elements of first matrix:\")\n",
    "matrix1 = [list(map(int, input().split())) for _ in range(m)]\n",
    "\n",
    "print(\"Enter elements of second matrix:\")\n",
    "matrix2 = [list(map(int, input().split())) for _ in range(m)]\n",
    "\n",
    "result = [[matrix1[i][j] + matrix2[i][j] for j in range(n)] for i in range(m)]\n",
    "print(\"Resultant matrix after addition:\")\n",
    "for row in result:\n",
    "    print(*row)"
   ]
  },
  {
   "cell_type": "markdown",
   "id": "ff48850f-5fe4-408b-a26a-045593169e78",
   "metadata": {},
   "source": [
    "# 10. Multiply Two Matrices"
   ]
  },
  {
   "cell_type": "code",
   "execution_count": 72,
   "id": "206ab71c-087f-4ed1-8792-fd3890e3274d",
   "metadata": {},
   "outputs": [
    {
     "name": "stdin",
     "output_type": "stream",
     "text": [
      "Enter number of rows in first matrix:  3\n",
      "Enter number of columns in first matrix:  3\n"
     ]
    },
    {
     "name": "stdout",
     "output_type": "stream",
     "text": [
      "Enter elements of first matrix:\n"
     ]
    },
    {
     "name": "stdin",
     "output_type": "stream",
     "text": [
      " 1 2 3\n",
      " 4 5 6\n",
      " 7 8 9\n",
      "Enter number of rows in second matrix:  3\n",
      "Enter number of columns in second matrix:  3\n"
     ]
    },
    {
     "name": "stdout",
     "output_type": "stream",
     "text": [
      "Enter elements of second matrix:\n"
     ]
    },
    {
     "name": "stdin",
     "output_type": "stream",
     "text": [
      " 9 8 7\n",
      " 6 5 4\n",
      " 3 2 1\n"
     ]
    },
    {
     "name": "stdout",
     "output_type": "stream",
     "text": [
      "Resultant matrix after multiplication:\n",
      "30 24 18\n",
      "84 69 54\n",
      "138 114 90\n"
     ]
    }
   ],
   "source": [
    "m1 = int(input(\"Enter number of rows in first matrix: \"))\n",
    "n1 = int(input(\"Enter number of columns in first matrix: \"))\n",
    "print(\"Enter elements of first matrix:\")\n",
    "matrix1 = [list(map(int, input().split())) for _ in range(m1)]\n",
    "\n",
    "m2 = int(input(\"Enter number of rows in second matrix: \"))\n",
    "n2 = int(input(\"Enter number of columns in second matrix: \"))\n",
    "print(\"Enter elements of second matrix:\")\n",
    "matrix2 = [list(map(int, input().split())) for _ in range(m2)]\n",
    "\n",
    "if n1 != m2:\n",
    "    print(\"Matrix multiplication not possible (number of columns in first matrix must equal rows in second matrix).\")\n",
    "else:\n",
    "    result = [[sum(matrix1[i][k] * matrix2[k][j] for k in range(n1)) for j in range(n2)] for i in range(m1)]\n",
    "    print(\"Resultant matrix after multiplication:\")\n",
    "    for row in result:\n",
    "        print(*row)"
   ]
  },
  {
   "cell_type": "code",
   "execution_count": null,
   "id": "630d5ec0-542e-4a2a-a2c4-bc20f6c9ee12",
   "metadata": {},
   "outputs": [],
   "source": []
  }
 ],
 "metadata": {
  "kernelspec": {
   "display_name": "Python 3 (ipykernel)",
   "language": "python",
   "name": "python3"
  },
  "language_info": {
   "codemirror_mode": {
    "name": "ipython",
    "version": 3
   },
   "file_extension": ".py",
   "mimetype": "text/x-python",
   "name": "python",
   "nbconvert_exporter": "python",
   "pygments_lexer": "ipython3",
   "version": "3.12.7"
  }
 },
 "nbformat": 4,
 "nbformat_minor": 5
}
