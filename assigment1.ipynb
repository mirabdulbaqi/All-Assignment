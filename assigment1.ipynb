{
 "cells": [
  {
   "cell_type": "code",
   "execution_count": 5,
   "id": "6b1d250a-93ac-46ed-8c30-d8f38c2a45ad",
   "metadata": {},
   "outputs": [
    {
     "name": "stdout",
     "output_type": "stream",
     "text": [
      "String value: Hello, World! Integer value: 42 Boolean value: True Float value: 3.14\n"
     ]
    }
   ],
   "source": [
    "print(\"String value:\", \"Hello, World!\", \"Integer value:\", 42, \"Boolean value:\", True, \"Float value:\", 3.14)\n"
   ]
  },
  {
   "cell_type": "code",
   "execution_count": 7,
   "id": "144f4659-a71e-442b-849f-c79906eaf387",
   "metadata": {},
   "outputs": [
    {
     "name": "stdout",
     "output_type": "stream",
     "text": [
      "String value-Hello, World!-Integer value-42-Boolean value-True-Float value-3.14\n"
     ]
    }
   ],
   "source": [
    "print(\"String value\", \"Hello, World!\", \"Integer value\", 42, \"Boolean value\", True, \"Float value\", 3.14, sep=\"-\")\n"
   ]
  },
  {
   "cell_type": "code",
   "execution_count": 9,
   "id": "3d520a4b-fd34-4930-bb0d-94a6280cf3f9",
   "metadata": {},
   "outputs": [
    {
     "name": "stdout",
     "output_type": "stream",
     "text": [
      "Hello, World! 42 True 3.14\n"
     ]
    }
   ],
   "source": [
    "print(\"Hello, World!\", end=\" \")\n",
    "print(42, end=\" \")\n",
    "print(True, end=\" \")\n",
    "print(3.14)\n"
   ]
  },
  {
   "cell_type": "markdown",
   "id": "9fc4f632-c2b5-4598-a39d-9f6d97814efd",
   "metadata": {},
   "source": [
    "### Yes, the Python print function can be called with no arguments. When you do this, it simply prints a blank line. For example:\n",
    "print()"
   ]
  },
  {
   "cell_type": "code",
   "execution_count": 16,
   "id": "62116d78-02c8-4cdc-86b3-2a75d134feb6",
   "metadata": {},
   "outputs": [],
   "source": [
    "# Personal details\n",
    "friend_name = \"Mr. Ahmed\"\n",
    "age = 30\n",
    "profession = \"Lawyer\"\n",
    "bachelor_degree = \"Law\"\n",
    "bachelor_year = 2005\n",
    "\n",
    "# Work details\n",
    "law_firm = \"The Himalya Associates\"\n",
    "work_location = \"Karachi\"\n",
    "working_since = 2015\n",
    "\n",
    "# Physical attributes\n",
    "height_in_feet = 5.10\n",
    "weight_in_grams = 70600\n",
    "\n",
    "# Financial details\n",
    "monthly_income_pkr = 200000  # Rs. 200k PKR"
   ]
  },
  {
   "cell_type": "code",
   "execution_count": 14,
   "id": "7a093d9b-48f7-4b83-b1f2-7a5c1ac7853b",
   "metadata": {},
   "outputs": [
    {
     "name": "stdout",
     "output_type": "stream",
     "text": [
      "Years since Mr. Ahmed completed his bachelor's degree: 19\n"
     ]
    }
   ],
   "source": [
    "# Current year\n",
    "current_year = 2024\n",
    "\n",
    "# Calculate years since graduation\n",
    "years_since_bachelors = current_year - bachelor_year\n",
    "\n",
    "print(\"Years since Mr. Ahmed completed his bachelor's degree:\", years_since_bachelors)"
   ]
  },
  {
   "cell_type": "code",
   "execution_count": 18,
   "id": "c73b2420-544a-491a-9a7a-8edcbb429af7",
   "metadata": {},
   "outputs": [
    {
     "name": "stdout",
     "output_type": "stream",
     "text": [
      "Mr. Ahmed has been working with 'The Himalya Associates' for 9 years.\n"
     ]
    }
   ],
   "source": [
    "# Variables\n",
    "current_year = 2024  # Current year\n",
    "joining_year = 2015  # Year he started working with the firm\n",
    "\n",
    "# Calculate years of work\n",
    "years_in_firm = current_year - joining_year\n",
    "\n",
    "# Print the result\n",
    "print(\"Mr. Ahmed has been working with 'The Himalya Associates' for\", years_in_firm, \"years.\")"
   ]
  },
  {
   "cell_type": "code",
   "execution_count": 20,
   "id": "86c42630-9034-4a09-9a07-4fb44fb82938",
   "metadata": {},
   "outputs": [
    {
     "name": "stdout",
     "output_type": "stream",
     "text": [
      "Mr. Ahmed's monthly income in USD is: 701.75\n"
     ]
    }
   ],
   "source": [
    "# Variables\n",
    "monthly_income_pkr = 200000  # Monthly income in PKR\n",
    "exchange_rate_pkr_to_usd = 285  # 1 USD = 285 PKR\n",
    "\n",
    "# Calculate income in USD\n",
    "monthly_income_usd = monthly_income_pkr / exchange_rate_pkr_to_usd\n",
    "\n",
    "# Print the result\n",
    "print(\"Mr. Ahmed's monthly income in USD is:\", round(monthly_income_usd, 2))"
   ]
  },
  {
   "cell_type": "code",
   "execution_count": 22,
   "id": "3ba055d7-94fc-49e1-aeb8-15c23a90f7b9",
   "metadata": {},
   "outputs": [
    {
     "name": "stdout",
     "output_type": "stream",
     "text": [
      "Mr. Ahmed's monthly income in USD (as an integer) is: 701\n"
     ]
    }
   ],
   "source": [
    "# Variables\n",
    "monthly_income_pkr = 200000  # Monthly income in PKR\n",
    "exchange_rate_pkr_to_usd = 285  # 1 USD = 285 PKR\n",
    "\n",
    "# Calculate income in USD\n",
    "monthly_income_usd = monthly_income_pkr / exchange_rate_pkr_to_usd\n",
    "\n",
    "# Check if the income is a float and convert it to an integer if true\n",
    "if isinstance(monthly_income_usd, float):\n",
    "    monthly_income_usd = int(monthly_income_usd)\n",
    "\n",
    "# Print the income in integer type\n",
    "print(\"Mr. Ahmed's monthly income in USD (as an integer) is:\", monthly_income_usd)"
   ]
  },
  {
   "cell_type": "code",
   "execution_count": 24,
   "id": "6da4f93c-eca8-4ab3-9259-f76a0c7a0c2e",
   "metadata": {},
   "outputs": [
    {
     "name": "stdout",
     "output_type": "stream",
     "text": [
      "The type of Mr. Ahmed's weight is: <class 'int'>\n",
      "Mr. Ahmed's weight in kilograms (integer value) is: 70\n"
     ]
    }
   ],
   "source": [
    "# Weight in grams\n",
    "weight_in_grams = 70600\n",
    "\n",
    "# Print the type of the weight\n",
    "print(\"The type of Mr. Ahmed's weight is:\", type(weight_in_grams))\n",
    "\n",
    "# Convert the weight to kilograms (integer value)\n",
    "weight_in_kg = int(weight_in_grams / 1000)\n",
    "\n",
    "# Print the weight in kilograms\n",
    "print(\"Mr. Ahmed's weight in kilograms (integer value) is:\", weight_in_kg)"
   ]
  },
  {
   "cell_type": "code",
   "execution_count": 1,
   "id": "bb4d7fda-d238-482b-b833-b9eda7e00738",
   "metadata": {},
   "outputs": [
    {
     "name": "stdout",
     "output_type": "stream",
     "text": [
      "Mr. Ahmed's year of birth is: 1994\n"
     ]
    }
   ],
   "source": [
    "# Variables\n",
    "current_year = 2024  # Current year\n",
    "age = 30  # Mr. Ahmed's age\n",
    "\n",
    "# Calculate birth year\n",
    "birth_year = current_year - age\n",
    "\n",
    "# Print the birth year\n",
    "print(\"Mr. Ahmed's year of birth is:\", birth_year)"
   ]
  },
  {
   "cell_type": "code",
   "execution_count": 3,
   "id": "efbdf6ae-d81e-45dc-b87f-da2be567d6c9",
   "metadata": {},
   "outputs": [
    {
     "name": "stdout",
     "output_type": "stream",
     "text": [
      "No, Rs. 100 cannot be divided equally among 6 students.\n"
     ]
    }
   ],
   "source": [
    "# Variables\n",
    "total_amount = 100  # Total amount in Rs.\n",
    "students = 6  # Number of students\n",
    "\n",
    "# Check divisibility\n",
    "if total_amount % students == 0:\n",
    "    print(\"Yes, Rs. 100 can be divided equally among 6 students.\")\n",
    "else:\n",
    "    print(\"No, Rs. 100 cannot be divided equally among 6 students.\")"
   ]
  },
  {
   "cell_type": "code",
   "execution_count": null,
   "id": "45cd75e8-0e12-4eb6-9aa6-ced153c84157",
   "metadata": {},
   "outputs": [],
   "source": []
  }
 ],
 "metadata": {
  "kernelspec": {
   "display_name": "Python 3 (ipykernel)",
   "language": "python",
   "name": "python3"
  },
  "language_info": {
   "codemirror_mode": {
    "name": "ipython",
    "version": 3
   },
   "file_extension": ".py",
   "mimetype": "text/x-python",
   "name": "python",
   "nbconvert_exporter": "python",
   "pygments_lexer": "ipython3",
   "version": "3.12.7"
  }
 },
 "nbformat": 4,
 "nbformat_minor": 5
}
