{
 "cells": [
  {
   "cell_type": "code",
   "execution_count": 1,
   "id": "f528e422-6e3f-44da-a477-406f97b3ddc0",
   "metadata": {},
   "outputs": [
    {
     "name": "stdin",
     "output_type": "stream",
     "text": [
      "Enter the total purchase amount: $ 14000\n"
     ]
    },
    {
     "name": "stdout",
     "output_type": "stream",
     "text": [
      "You're eligible for a 10% discount! The final price is: $12600.00\n"
     ]
    }
   ],
   "source": [
    "# Take the total purchase amount as input\n",
    "total_purchase = float(input(\"Enter the total purchase amount: $\"))\n",
    "\n",
    "# Check if the customer is eligible for a discount\n",
    "if total_purchase > 100:\n",
    "    # Apply a 10% discount\n",
    "    discount = total_purchase * 0.10\n",
    "    final_price = total_purchase - discount\n",
    "    print(f\"You're eligible for a 10% discount! The final price is: ${final_price:.2f}\")\n",
    "else:\n",
    "    print(f\"Your total purchase is less than $100. The total price is: ${total_purchase:.2f}\")"
   ]
  },
  {
   "cell_type": "code",
   "execution_count": 3,
   "id": "24e1a008-9722-495c-a362-740d36b6e234",
   "metadata": {},
   "outputs": [
    {
     "name": "stdin",
     "output_type": "stream",
     "text": [
      "Enter the number of items:  12\n",
      "Enter the price per item: $ 1500\n"
     ]
    },
    {
     "name": "stdout",
     "output_type": "stream",
     "text": [
      "You're eligible for a 15% bulk discount! The final price is: $15300.00\n"
     ]
    }
   ],
   "source": [
    "# Take inputs for number of items and price per item\n",
    "num_items = int(input(\"Enter the number of items: \"))\n",
    "price_per_item = float(input(\"Enter the price per item: $\"))\n",
    "\n",
    "# Calculate total price\n",
    "total_price = num_items * price_per_item\n",
    "\n",
    "# Apply discount if more than 5 items are bought\n",
    "if num_items > 5:\n",
    "    discount = total_price * 0.15\n",
    "    final_price = total_price - discount\n",
    "    print(f\"You're eligible for a 15% bulk discount! The final price is: ${final_price:.2f}\")\n",
    "else:\n",
    "    print(f\"No discount applied. The total price is: ${total_price:.2f}\")"
   ]
  },
  {
   "cell_type": "code",
   "execution_count": 5,
   "id": "9a4af121-e45b-4365-9950-b24496ba207c",
   "metadata": {},
   "outputs": [
    {
     "name": "stdin",
     "output_type": "stream",
     "text": [
      "Are you a member? (yes/no):  yes\n",
      "Enter the price of the product: $ 17000\n"
     ]
    },
    {
     "name": "stdout",
     "output_type": "stream",
     "text": [
      "You're a member! The discounted price is: $13600.00\n"
     ]
    }
   ],
   "source": [
    "# Check if the customer is a member\n",
    "is_member = input(\"Are you a member? (yes/no): \").strip().lower()\n",
    "\n",
    "# Take the price of the product\n",
    "price = float(input(\"Enter the price of the product: $\"))\n",
    "\n",
    "# Check membership status and apply discount\n",
    "if is_member == \"yes\":\n",
    "    discount = price * 0.20\n",
    "    final_price = price - discount\n",
    "    print(f\"You're a member! The discounted price is: ${final_price:.2f}\")\n",
    "else:\n",
    "    discount = price * 0.05\n",
    "    final_price = price - discount\n",
    "    print(f\"You're not a member. The discounted price is: ${final_price:.2f}\")"
   ]
  },
  {
   "cell_type": "code",
   "execution_count": 7,
   "id": "b1744e2e-4e9e-4dcf-94bb-b298b35beffe",
   "metadata": {},
   "outputs": [
    {
     "name": "stdin",
     "output_type": "stream",
     "text": [
      "Is today a holiday? (yes/no):  no\n",
      "Enter the price of the product: $ 19000\n"
     ]
    },
    {
     "name": "stdout",
     "output_type": "stream",
     "text": [
      "Seasonal sale! The discounted price is: $17100.00\n"
     ]
    }
   ],
   "source": [
    "# Check if today is a holiday\n",
    "is_holiday = input(\"Is today a holiday? (yes/no): \").strip().lower()\n",
    "\n",
    "# Take the price of the product\n",
    "price = float(input(\"Enter the price of the product: $\"))\n",
    "\n",
    "# Apply the discount based on the holiday status\n",
    "if is_holiday == \"yes\":\n",
    "    discount = price * 0.25\n",
    "    final_price = price - discount\n",
    "    print(f\"Holiday sale! The discounted price is: ${final_price:.2f}\")\n",
    "else:\n",
    "    discount = price * 0.10\n",
    "    final_price = price - discount\n",
    "    print(f\"Seasonal sale! The discounted price is: ${final_price:.2f}\")"
   ]
  },
  {
   "cell_type": "code",
   "execution_count": 9,
   "id": "27abda7e-70cb-4930-b649-3021489e0899",
   "metadata": {},
   "outputs": [
    {
     "name": "stdin",
     "output_type": "stream",
     "text": [
      "Enter the number of items purchased:  10\n"
     ]
    },
    {
     "name": "stdout",
     "output_type": "stream",
     "text": [
      "You get half of your items for free! You only need to pay for 5 items.\n"
     ]
    }
   ],
   "source": [
    "# Take input for the number of items\n",
    "num_items = int(input(\"Enter the number of items purchased: \"))\n",
    "\n",
    "# Check if the number of items is even\n",
    "if num_items % 2 == 0:\n",
    "    # If even, the customer pays for half the items\n",
    "    items_to_pay_for = num_items // 2\n",
    "    print(f\"You get half of your items for free! You only need to pay for {items_to_pay_for} items.\")\n",
    "else:\n",
    "    # If odd, the customer pays for all the items\n",
    "    items_to_pay_for = num_items\n",
    "    print(f\"You need to pay for all {items_to_pay_for} items.\")"
   ]
  },
  {
   "cell_type": "markdown",
   "id": "d5403127-1c9c-499c-abab-33b93e3a7bfd",
   "metadata": {},
   "source": [
    "# B-Tax Calculations"
   ]
  },
  {
   "cell_type": "code",
   "execution_count": 12,
   "id": "87f9b507-bcf4-422a-94a7-8ebff4453605",
   "metadata": {},
   "outputs": [
    {
     "name": "stdin",
     "output_type": "stream",
     "text": [
      "Enter the price of the item: $ 1200\n"
     ]
    },
    {
     "name": "stdout",
     "output_type": "stream",
     "text": [
      "The total price after tax is: $1380.00\n"
     ]
    }
   ],
   "source": [
    "# Take the price of the item as input\n",
    "price = float(input(\"Enter the price of the item: $\"))\n",
    "\n",
    "# Check if the price is greater than $500\n",
    "if price > 500:\n",
    "    # Apply a 15% luxury tax\n",
    "    tax = price * 0.15\n",
    "else:\n",
    "    # Apply an 8% standard tax\n",
    "    tax = price * 0.08\n",
    "\n",
    "# Calculate the total price after tax\n",
    "total_price = price + tax\n",
    "\n",
    "# Display the total price after tax\n",
    "print(f\"The total price after tax is: ${total_price:.2f}\")"
   ]
  },
  {
   "cell_type": "code",
   "execution_count": 14,
   "id": "2617e089-b2c4-4478-a890-624f8a2a83ad",
   "metadata": {},
   "outputs": [
    {
     "name": "stdin",
     "output_type": "stream",
     "text": [
      "Enter your annual income: $ 1700000\n"
     ]
    },
    {
     "name": "stdout",
     "output_type": "stream",
     "text": [
      "The income tax amount is: $340000.00\n"
     ]
    }
   ],
   "source": [
    "# Take the annual income as input\n",
    "income = float(input(\"Enter your annual income: $\"))\n",
    "\n",
    "# Check the income range and apply the appropriate tax rate\n",
    "if income > 50000:\n",
    "    tax = income * 0.20  # 20% tax\n",
    "else:\n",
    "    tax = income * 0.10  # 10% tax\n",
    "\n",
    "# Display the calculated tax\n",
    "print(f\"The income tax amount is: ${tax:.2f}\")"
   ]
  },
  {
   "cell_type": "code",
   "execution_count": 16,
   "id": "584a7b95-751f-4014-a339-ffc2446664d3",
   "metadata": {},
   "outputs": [
    {
     "name": "stdin",
     "output_type": "stream",
     "text": [
      "Enter your annual income: $ 111000000\n"
     ]
    },
    {
     "name": "stdout",
     "output_type": "stream",
     "text": [
      "You belong to the 'High Tax' tax bracket.\n"
     ]
    }
   ],
   "source": [
    "# Take the income as input\n",
    "income = float(input(\"Enter your annual income: $\"))\n",
    "\n",
    "# Categorize the income into tax brackets\n",
    "if income < 30000:\n",
    "    tax_bracket = \"Low Tax\"\n",
    "elif 30000 <= income < 100000:\n",
    "    tax_bracket = \"Medium Tax\"\n",
    "else:\n",
    "    tax_bracket = \"High Tax\"\n",
    "\n",
    "# Display the tax bracket\n",
    "print(f\"You belong to the '{tax_bracket}' tax bracket.\")"
   ]
  },
  {
   "cell_type": "code",
   "execution_count": 18,
   "id": "3b2196cd-5145-4a51-942a-b5b9b76da129",
   "metadata": {},
   "outputs": [
    {
     "name": "stdin",
     "output_type": "stream",
     "text": [
      "Enter the price of the item: $ 1000\n",
      "Is the item essential? (yes/no):  yes\n"
     ]
    },
    {
     "name": "stdout",
     "output_type": "stream",
     "text": [
      "The final price after VAT is: $1050.00\n"
     ]
    }
   ],
   "source": [
    "# Take the price of the item as input\n",
    "price = float(input(\"Enter the price of the item: $\"))\n",
    "\n",
    "# Take input for whether the item is essential\n",
    "is_essential = input(\"Is the item essential? (yes/no): \").strip().lower()\n",
    "\n",
    "# Apply VAT based on whether the item is essential\n",
    "if is_essential == \"yes\":\n",
    "    vat = price * 0.05  # 5% VAT for essential items\n",
    "else:\n",
    "    vat = price * 0.12  # 12% VAT for non-essential items\n",
    "\n",
    "# Calculate the final price including VAT\n",
    "final_price = price + vat\n",
    "\n",
    "# Display the final price\n",
    "print(f\"The final price after VAT is: ${final_price:.2f}\")"
   ]
  },
  {
   "cell_type": "code",
   "execution_count": 20,
   "id": "25139bdd-f55f-4ad8-92d0-878cf4765020",
   "metadata": {},
   "outputs": [
    {
     "name": "stdin",
     "output_type": "stream",
     "text": [
      "Enter the price of the item: $ 900\n",
      "Is today a tax-free day? (yes/no):  yes\n"
     ]
    },
    {
     "name": "stdout",
     "output_type": "stream",
     "text": [
      "The final price is: $900.00\n"
     ]
    }
   ],
   "source": [
    "# Take the price of the item as input\n",
    "price = float(input(\"Enter the price of the item: $\"))\n",
    "\n",
    "# Take input for whether it's a tax-free day\n",
    "tax_free = input(\"Is today a tax-free day? (yes/no): \").strip().lower()\n",
    "\n",
    "# Check if it's a tax-free day or not\n",
    "if tax_free == \"yes\":\n",
    "    final_price = price  # No tax on tax-free day\n",
    "else:\n",
    "    tax = price * 0.07  # 7% tax\n",
    "    final_price = price + tax\n",
    "\n",
    "# Display the final price\n",
    "print(f\"The final price is: ${final_price:.2f}\")"
   ]
  },
  {
   "cell_type": "markdown",
   "id": "a8073e7d-e240-4aa0-878d-8c1e72b86077",
   "metadata": {},
   "source": [
    "# C-Shopping and Billing"
   ]
  },
  {
   "cell_type": "code",
   "execution_count": 23,
   "id": "d026d6f2-c8f0-4161-b544-cf7a0471902f",
   "metadata": {},
   "outputs": [
    {
     "name": "stdin",
     "output_type": "stream",
     "text": [
      "Enter the total purchase amount: $ 1100\n"
     ]
    },
    {
     "name": "stdout",
     "output_type": "stream",
     "text": [
      "The total amount including shipping is: $1100.00\n"
     ]
    }
   ],
   "source": [
    "# Take the total purchase amount as input\n",
    "total_purchase = float(input(\"Enter the total purchase amount: $\"))\n",
    "\n",
    "# Check if the total purchase is more than $50\n",
    "if total_purchase > 50:\n",
    "    shipping = 0  # Free shipping\n",
    "else:\n",
    "    shipping = 5  # Charge $5 for shipping\n",
    "\n",
    "# Calculate the total amount including shipping\n",
    "total_amount = total_purchase + shipping\n",
    "\n",
    "# Display the total amount\n",
    "print(f\"The total amount including shipping is: ${total_amount:.2f}\")"
   ]
  },
  {
   "cell_type": "code",
   "execution_count": 25,
   "id": "806fadbd-6923-4f08-b89f-37143c31abf1",
   "metadata": {},
   "outputs": [
    {
     "name": "stdin",
     "output_type": "stream",
     "text": [
      "Enter the price of the item: $ 1500\n",
      "Enter the discount code:  12\n"
     ]
    },
    {
     "name": "stdout",
     "output_type": "stream",
     "text": [
      "Invalid discount code. The total price is: $1500.00\n"
     ]
    }
   ],
   "source": [
    "# Take the price of the item and discount code as input\n",
    "price = float(input(\"Enter the price of the item: $\"))\n",
    "discount_code = input(\"Enter the discount code: \").strip()\n",
    "\n",
    "# Check if the entered discount code is correct\n",
    "if discount_code == \"DISCOUNT10\":\n",
    "    discount = price * 0.10  # Apply a 10% discount\n",
    "    final_price = price - discount\n",
    "    print(f\"Discount applied! The final price is: ${final_price:.2f}\")\n",
    "else:\n",
    "    print(f\"Invalid discount code. The total price is: ${price:.2f}\")"
   ]
  },
  {
   "cell_type": "code",
   "execution_count": 27,
   "id": "6aff328c-d91a-4be3-9851-d306a1417a68",
   "metadata": {},
   "outputs": [
    {
     "name": "stdin",
     "output_type": "stream",
     "text": [
      "Enter the total price: $ 2000\n"
     ]
    },
    {
     "name": "stdout",
     "output_type": "stream",
     "text": [
      "The final price after discount is: $1600.00\n"
     ]
    }
   ],
   "source": [
    "# Take the total price as input\n",
    "total_price = float(input(\"Enter the total price: $\"))\n",
    "\n",
    "# Apply tiered discounts based on the total price\n",
    "if total_price <= 50:\n",
    "    discount = 0  # No discount\n",
    "elif 50 < total_price <= 100:\n",
    "    discount = total_price * 0.10  # 10% discount\n",
    "else:\n",
    "    discount = total_price * 0.20  # 20% discount\n",
    "\n",
    "# Calculate the final price after discount\n",
    "final_price = total_price - discount\n",
    "\n",
    "# Display the final price after discount\n",
    "print(f\"The final price after discount is: ${final_price:.2f}\")"
   ]
  },
  {
   "cell_type": "code",
   "execution_count": 29,
   "id": "22e488c3-389a-42ae-adc6-ea7cee8d4d77",
   "metadata": {},
   "outputs": [
    {
     "name": "stdin",
     "output_type": "stream",
     "text": [
      "Enter the total purchase amount: $ 50000\n"
     ]
    },
    {
     "name": "stdout",
     "output_type": "stream",
     "text": [
      "The total amount is: $50000.00\n"
     ]
    }
   ],
   "source": [
    "# Take the total purchase amount as input\n",
    "total_amount = float(input(\"Enter the total purchase amount: $\"))\n",
    "\n",
    "# Check if the total amount is less than $20\n",
    "if total_amount < 20:\n",
    "    print(\"Minimum purchase of $20 is required.\")\n",
    "else:\n",
    "    print(f\"The total amount is: ${total_amount:.2f}\")"
   ]
  },
  {
   "cell_type": "code",
   "execution_count": 31,
   "id": "5e7ff6de-ebcc-4bc6-b645-8024d556756a",
   "metadata": {},
   "outputs": [
    {
     "name": "stdin",
     "output_type": "stream",
     "text": [
      "Enter the purchase amount: $ 7000\n",
      "Are you a loyal member? (yes/no):  yes\n"
     ]
    },
    {
     "name": "stdout",
     "output_type": "stream",
     "text": [
      "As a loyal member, you earn 14000.0 loyalty points.\n"
     ]
    }
   ],
   "source": [
    "# Take the purchase amount as input\n",
    "purchase_amount = float(input(\"Enter the purchase amount: $\"))\n",
    "\n",
    "# Take input for whether the customer is a loyal member\n",
    "is_loyal = input(\"Are you a loyal member? (yes/no): \").strip().lower()\n",
    "\n",
    "# Standard loyalty points for every $1 spent\n",
    "standard_points = purchase_amount\n",
    "\n",
    "# Double points for loyal members\n",
    "if is_loyal == \"yes\":\n",
    "    loyalty_points = standard_points * 2\n",
    "    print(f\"As a loyal member, you earn {loyalty_points} loyalty points.\")\n",
    "else:\n",
    "    print(f\"You earn {standard_points} loyalty points.\")"
   ]
  },
  {
   "cell_type": "markdown",
   "id": "3dd346d3-6f9f-4741-9235-92c1a46cc57c",
   "metadata": {},
   "source": [
    "# D-Travel and Tickets"
   ]
  },
  {
   "cell_type": "code",
   "execution_count": 34,
   "id": "20d3c82c-0a7d-44db-be3e-2d3434ca617a",
   "metadata": {},
   "outputs": [
    {
     "name": "stdin",
     "output_type": "stream",
     "text": [
      "Enter the distance to be traveled (in miles):  100\n",
      "Enter the ticket price: $ 1500\n"
     ]
    },
    {
     "name": "stdout",
     "output_type": "stream",
     "text": [
      "The full ticket price is: $1500.00\n"
     ]
    }
   ],
   "source": [
    "# Take the distance to be traveled and ticket price as input\n",
    "distance = float(input(\"Enter the distance to be traveled (in miles): \"))\n",
    "ticket_price = float(input(\"Enter the ticket price: $\"))\n",
    "\n",
    "# Check if the distance is more than 500 miles\n",
    "if distance > 500:\n",
    "    discount = ticket_price * 0.20  # 20% discount\n",
    "    final_price = ticket_price - discount\n",
    "    print(f\"You're eligible for a 20% discount! The final ticket price is: ${final_price:.2f}\")\n",
    "else:\n",
    "    print(f\"The full ticket price is: ${ticket_price:.2f}\")"
   ]
  },
  {
   "cell_type": "code",
   "execution_count": 36,
   "id": "3fe0aa4b-7b78-4f9a-b0ec-4a67ca81ebcb",
   "metadata": {},
   "outputs": [
    {
     "name": "stdin",
     "output_type": "stream",
     "text": [
      "Enter the passenger's age:  25\n",
      "Enter the ticket price: $ 1500\n"
     ]
    },
    {
     "name": "stdout",
     "output_type": "stream",
     "text": [
      "The full ticket price is: $1500.00\n"
     ]
    }
   ],
   "source": [
    "# Take the age of the passenger and ticket price as input\n",
    "age = int(input(\"Enter the passenger's age: \"))\n",
    "ticket_price = float(input(\"Enter the ticket price: $\"))\n",
    "\n",
    "# Check if the passenger is eligible for a discount (under 12 or over 60)\n",
    "if age < 12 or age > 60:\n",
    "    discount = ticket_price * 0.15  # 15% discount\n",
    "    final_price = ticket_price - discount\n",
    "    print(f\"You're eligible for a 15% discount! The final ticket price is: ${final_price:.2f}\")\n",
    "else:\n",
    "    print(f\"The full ticket price is: ${ticket_price:.2f}\")"
   ]
  },
  {
   "cell_type": "markdown",
   "id": "150761e2-383d-41dc-b29e-467161326f1b",
   "metadata": {},
   "source": [
    "# Ticket Type Pricing:"
   ]
  },
  {
   "cell_type": "code",
   "execution_count": 39,
   "id": "04e608b1-6576-4713-b7cc-574186048b1f",
   "metadata": {},
   "outputs": [
    {
     "name": "stdin",
     "output_type": "stream",
     "text": [
      "Enter the ticket price: $ 1500\n",
      "Is the ticket for a weekend? (yes/no):  no\n"
     ]
    },
    {
     "name": "stdout",
     "output_type": "stream",
     "text": [
      "The ticket price is: $1500.00\n"
     ]
    }
   ],
   "source": [
    "# Take input for the ticket price and if it's a weekend\n",
    "ticket_price = float(input(\"Enter the ticket price: $\"))\n",
    "is_weekend = input(\"Is the ticket for a weekend? (yes/no): \").strip().lower()\n",
    "\n",
    "# Check if it's a weekend and apply a surcharge\n",
    "if is_weekend == \"yes\":\n",
    "    surcharge = ticket_price * 0.10  # 10% surcharge\n",
    "    final_price = ticket_price + surcharge\n",
    "    print(f\"Weekend surcharge applied! The final ticket price is: ${final_price:.2f}\")\n",
    "else:\n",
    "    print(f\"The ticket price is: ${ticket_price:.2f}\")"
   ]
  },
  {
   "cell_type": "markdown",
   "id": "fad53af6-bb78-4acd-83a0-daaf7abf4c32",
   "metadata": {},
   "source": [
    "# Baggage Fee:"
   ]
  },
  {
   "cell_type": "code",
   "execution_count": 42,
   "id": "251ac388-5ea0-4141-a69b-04b090c15e85",
   "metadata": {},
   "outputs": [
    {
     "name": "stdin",
     "output_type": "stream",
     "text": [
      "Enter the total baggage weight (in kg):  40\n"
     ]
    },
    {
     "name": "stdout",
     "output_type": "stream",
     "text": [
      "Extra baggage fee: $200.00\n"
     ]
    }
   ],
   "source": [
    "# Take the total baggage weight as input\n",
    "baggage_weight = float(input(\"Enter the total baggage weight (in kg): \"))\n",
    "\n",
    "# Check if the baggage weight exceeds 20kg\n",
    "if baggage_weight > 20:\n",
    "    extra_weight = baggage_weight - 20  # Calculate the excess weight\n",
    "    baggage_fee = extra_weight * 10  # Charge $10 per extra kilogram\n",
    "    print(f\"Extra baggage fee: ${baggage_fee:.2f}\")\n",
    "else:\n",
    "    print(\"No extra baggage fee.\")"
   ]
  },
  {
   "cell_type": "markdown",
   "id": "e47e3b33-d409-4482-b1bf-eafce6ccc70d",
   "metadata": {},
   "source": [
    "# Early Bird Discount:"
   ]
  },
  {
   "cell_type": "code",
   "execution_count": 45,
   "id": "20f5b51f-ef9e-416e-ba3c-79e05e4541cb",
   "metadata": {},
   "outputs": [
    {
     "name": "stdin",
     "output_type": "stream",
     "text": [
      "Enter the number of days the ticket was booked in advance:  2\n",
      "Enter the ticket price: $ 1200\n"
     ]
    },
    {
     "name": "stdout",
     "output_type": "stream",
     "text": [
      "The ticket price is: $1200.00\n"
     ]
    }
   ],
   "source": [
    "# Take the number of days in advance the ticket was booked and ticket price\n",
    "days_in_advance = int(input(\"Enter the number of days the ticket was booked in advance: \"))\n",
    "ticket_price = float(input(\"Enter the ticket price: $\"))\n",
    "\n",
    "# Check if the ticket was booked more than 30 days in advance\n",
    "if days_in_advance > 30:\n",
    "    discount = ticket_price * 0.10  # Apply a 10% discount\n",
    "    final_price = ticket_price - discount\n",
    "    print(f\"Early bird discount applied! The final ticket price is: ${final_price:.2f}\")\n",
    "else:\n",
    "    print(f\"The ticket price is: ${ticket_price:.2f}\")"
   ]
  },
  {
   "cell_type": "markdown",
   "id": "58707f24-e283-483b-a0ea-9dcf9ac0ca46",
   "metadata": {},
   "source": [
    "# E-Grades and Performance"
   ]
  },
  {
   "cell_type": "markdown",
   "id": "3079773a-6e81-4ec9-b1ac-840b1a2a121f",
   "metadata": {},
   "source": [
    "# Pass or Fail:"
   ]
  },
  {
   "cell_type": "code",
   "execution_count": 50,
   "id": "97a196af-96f3-41a2-a333-33eca3ededb3",
   "metadata": {},
   "outputs": [
    {
     "name": "stdin",
     "output_type": "stream",
     "text": [
      "Enter the student's score:  80\n"
     ]
    },
    {
     "name": "stdout",
     "output_type": "stream",
     "text": [
      "Pass\n"
     ]
    }
   ],
   "source": [
    "# Take the student's score as input\n",
    "score = float(input(\"Enter the student's score: \"))\n",
    "\n",
    "# Check if the score is 40 or more\n",
    "if score >= 40:\n",
    "    print(\"Pass\")\n",
    "else:\n",
    "    print(\"Fail\")"
   ]
  },
  {
   "cell_type": "markdown",
   "id": "9c33d5d8-dd72-4069-aabe-59076875dbec",
   "metadata": {},
   "source": [
    "# Grade Assignment:"
   ]
  },
  {
   "cell_type": "code",
   "execution_count": 53,
   "id": "dbfd4836-5100-4499-88da-e9e8ac326a00",
   "metadata": {},
   "outputs": [
    {
     "name": "stdin",
     "output_type": "stream",
     "text": [
      "Enter the student's score:  75\n"
     ]
    },
    {
     "name": "stdout",
     "output_type": "stream",
     "text": [
      "The student's grade is: B\n"
     ]
    }
   ],
   "source": [
    "# Take the student's score as input\n",
    "score = float(input(\"Enter the student's score: \"))\n",
    "\n",
    "# Assign grade based on the score\n",
    "if score >= 90:\n",
    "    grade = \"A\"\n",
    "elif 75 <= score < 90:\n",
    "    grade = \"B\"\n",
    "elif 50 <= score < 75:\n",
    "    grade = \"C\"\n",
    "else:\n",
    "    grade = \"F\"\n",
    "\n",
    "# Display the grade\n",
    "print(f\"The student's grade is: {grade}\")"
   ]
  },
  {
   "cell_type": "markdown",
   "id": "9f744e85-119a-4886-b918-769f39f98f5e",
   "metadata": {},
   "source": [
    "# Bonus Marks:"
   ]
  },
  {
   "cell_type": "code",
   "execution_count": 56,
   "id": "fbb42242-9527-4982-8178-0608cc75856d",
   "metadata": {},
   "outputs": [
    {
     "name": "stdin",
     "output_type": "stream",
     "text": [
      "Enter the student's score:  70\n",
      "Did the student complete all assignments? (yes/no):  yes\n"
     ]
    },
    {
     "name": "stdout",
     "output_type": "stream",
     "text": [
      "The final score after bonus marks is: 75.00\n"
     ]
    }
   ],
   "source": [
    "# Take the student's score and whether they completed all assignments as input\n",
    "score = float(input(\"Enter the student's score: \"))\n",
    "completed_assignments = input(\"Did the student complete all assignments? (yes/no): \").strip().lower()\n",
    "\n",
    "# Add bonus marks if assignments are completed\n",
    "if completed_assignments == \"yes\":\n",
    "    score += 5\n",
    "\n",
    "# Display the final score\n",
    "print(f\"The final score after bonus marks is: {score:.2f}\")"
   ]
  },
  {
   "cell_type": "markdown",
   "id": "60757a86-fa2d-42ea-82e3-20cd36174773",
   "metadata": {},
   "source": [
    "# Attendance Eligibility:"
   ]
  },
  {
   "cell_type": "code",
   "execution_count": 59,
   "id": "0714356e-be58-4672-b768-0a7a5b5b3354",
   "metadata": {},
   "outputs": [
    {
     "name": "stdin",
     "output_type": "stream",
     "text": [
      "Enter the student's attendance percentage:  75\n"
     ]
    },
    {
     "name": "stdout",
     "output_type": "stream",
     "text": [
      "The student is eligible to take the exam.\n"
     ]
    }
   ],
   "source": [
    "# Take the student's attendance percentage as input\n",
    "attendance_percentage = float(input(\"Enter the student's attendance percentage: \"))\n",
    "\n",
    "# Check if the student is eligible to take the exam\n",
    "if attendance_percentage >= 75:\n",
    "    print(\"The student is eligible to take the exam.\")\n",
    "else:\n",
    "    print(\"The student is not eligible to take the exam.\")"
   ]
  },
  {
   "cell_type": "markdown",
   "id": "1faebdd5-e5fb-4261-902c-810ad77f089e",
   "metadata": {},
   "source": [
    "# Scholarship Eligibility:"
   ]
  },
  {
   "cell_type": "code",
   "execution_count": 62,
   "id": "b5653d17-ac9d-4f85-ab29-5717d56506bf",
   "metadata": {},
   "outputs": [
    {
     "name": "stdin",
     "output_type": "stream",
     "text": [
      "Enter the student's grade:  A\n",
      "Enter the student's annual family income: $ 15000\n"
     ]
    },
    {
     "name": "stdout",
     "output_type": "stream",
     "text": [
      "The student is eligible for a scholarship.\n"
     ]
    }
   ],
   "source": [
    "# Take the student's grade and family income as input\n",
    "grade = input(\"Enter the student's grade: \").strip().upper()\n",
    "family_income = float(input(\"Enter the student's annual family income: $\"))\n",
    "\n",
    "# Check if the student is eligible for a scholarship\n",
    "if grade == \"A\" and family_income < 30000:\n",
    "    print(\"The student is eligible for a scholarship.\")\n",
    "else:\n",
    "    print(\"The student is not eligible for a scholarship.\")"
   ]
  },
  {
   "cell_type": "code",
   "execution_count": null,
   "id": "cc8c9032-fcae-4f28-8e98-1212a2309a12",
   "metadata": {},
   "outputs": [],
   "source": []
  }
 ],
 "metadata": {
  "kernelspec": {
   "display_name": "Python 3 (ipykernel)",
   "language": "python",
   "name": "python3"
  },
  "language_info": {
   "codemirror_mode": {
    "name": "ipython",
    "version": 3
   },
   "file_extension": ".py",
   "mimetype": "text/x-python",
   "name": "python",
   "nbconvert_exporter": "python",
   "pygments_lexer": "ipython3",
   "version": "3.12.7"
  }
 },
 "nbformat": 4,
 "nbformat_minor": 5
}
